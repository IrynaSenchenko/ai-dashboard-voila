{
 "cells": [
  {
   "cell_type": "code",
   "execution_count": 7,
   "id": "db51bf3a",
   "metadata": {},
   "outputs": [
    {
     "data": {
      "application/vnd.plotly.v1+json": {
       "config": {
        "plotlyServerURL": "https://plot.ly"
       },
       "data": [
        {
         "coloraxis": "coloraxis",
         "geo": "geo",
         "hovertemplate": "<b>%{hovertext}</b><br><br>Country=%{location}<br>Investment_Mln=%{z}<extra></extra>",
         "hovertext": [
          "Australia",
          "Brazil",
          "Canada",
          "China",
          "France",
          "Germany",
          "India",
          "Japan",
          "United Kingdom",
          "USA"
         ],
         "locationmode": "country names",
         "locations": [
          "Australia",
          "Brazil",
          "Canada",
          "China",
          "France",
          "Germany",
          "India",
          "Japan",
          "United Kingdom",
          "USA"
         ],
         "name": "",
         "type": "choropleth",
         "z": {
          "bdata": "KVyPwvWkf0AUrkfh+kamQOxRuB6Fu21ASOF6FK5zm0AfhetRODagQKRwPQrX3YRACtejcD29m0AUrkfhejKBQOF6FK5HM4JASOF6FC5zpUA=",
          "dtype": "f8"
         }
        }
       ],
       "layout": {
        "coloraxis": {
         "colorbar": {
          "title": {
           "text": "Investment_Mln"
          }
         },
         "colorscale": [
          [
           0,
           "rgb(255,247,251)"
          ],
          [
           0.125,
           "rgb(236,231,242)"
          ],
          [
           0.25,
           "rgb(208,209,230)"
          ],
          [
           0.375,
           "rgb(166,189,219)"
          ],
          [
           0.5,
           "rgb(116,169,207)"
          ],
          [
           0.625,
           "rgb(54,144,192)"
          ],
          [
           0.75,
           "rgb(5,112,176)"
          ],
          [
           0.875,
           "rgb(4,90,141)"
          ],
          [
           1,
           "rgb(2,56,88)"
          ]
         ]
        },
        "geo": {
         "center": {},
         "domain": {
          "x": [
           0,
           1
          ],
          "y": [
           0,
           1
          ]
         },
         "projection": {
          "type": "natural earth"
         },
         "showcoastlines": true
        },
        "height": 600,
        "legend": {
         "tracegroupgap": 0
        },
        "margin": {
         "b": 20,
         "l": 20,
         "r": 20,
         "t": 60
        },
        "template": {
         "data": {
          "bar": [
           {
            "error_x": {
             "color": "#2a3f5f"
            },
            "error_y": {
             "color": "#2a3f5f"
            },
            "marker": {
             "line": {
              "color": "#E5ECF6",
              "width": 0.5
             },
             "pattern": {
              "fillmode": "overlay",
              "size": 10,
              "solidity": 0.2
             }
            },
            "type": "bar"
           }
          ],
          "barpolar": [
           {
            "marker": {
             "line": {
              "color": "#E5ECF6",
              "width": 0.5
             },
             "pattern": {
              "fillmode": "overlay",
              "size": 10,
              "solidity": 0.2
             }
            },
            "type": "barpolar"
           }
          ],
          "carpet": [
           {
            "aaxis": {
             "endlinecolor": "#2a3f5f",
             "gridcolor": "white",
             "linecolor": "white",
             "minorgridcolor": "white",
             "startlinecolor": "#2a3f5f"
            },
            "baxis": {
             "endlinecolor": "#2a3f5f",
             "gridcolor": "white",
             "linecolor": "white",
             "minorgridcolor": "white",
             "startlinecolor": "#2a3f5f"
            },
            "type": "carpet"
           }
          ],
          "choropleth": [
           {
            "colorbar": {
             "outlinewidth": 0,
             "ticks": ""
            },
            "type": "choropleth"
           }
          ],
          "contour": [
           {
            "colorbar": {
             "outlinewidth": 0,
             "ticks": ""
            },
            "colorscale": [
             [
              0,
              "#0d0887"
             ],
             [
              0.1111111111111111,
              "#46039f"
             ],
             [
              0.2222222222222222,
              "#7201a8"
             ],
             [
              0.3333333333333333,
              "#9c179e"
             ],
             [
              0.4444444444444444,
              "#bd3786"
             ],
             [
              0.5555555555555556,
              "#d8576b"
             ],
             [
              0.6666666666666666,
              "#ed7953"
             ],
             [
              0.7777777777777778,
              "#fb9f3a"
             ],
             [
              0.8888888888888888,
              "#fdca26"
             ],
             [
              1,
              "#f0f921"
             ]
            ],
            "type": "contour"
           }
          ],
          "contourcarpet": [
           {
            "colorbar": {
             "outlinewidth": 0,
             "ticks": ""
            },
            "type": "contourcarpet"
           }
          ],
          "heatmap": [
           {
            "colorbar": {
             "outlinewidth": 0,
             "ticks": ""
            },
            "colorscale": [
             [
              0,
              "#0d0887"
             ],
             [
              0.1111111111111111,
              "#46039f"
             ],
             [
              0.2222222222222222,
              "#7201a8"
             ],
             [
              0.3333333333333333,
              "#9c179e"
             ],
             [
              0.4444444444444444,
              "#bd3786"
             ],
             [
              0.5555555555555556,
              "#d8576b"
             ],
             [
              0.6666666666666666,
              "#ed7953"
             ],
             [
              0.7777777777777778,
              "#fb9f3a"
             ],
             [
              0.8888888888888888,
              "#fdca26"
             ],
             [
              1,
              "#f0f921"
             ]
            ],
            "type": "heatmap"
           }
          ],
          "histogram": [
           {
            "marker": {
             "pattern": {
              "fillmode": "overlay",
              "size": 10,
              "solidity": 0.2
             }
            },
            "type": "histogram"
           }
          ],
          "histogram2d": [
           {
            "colorbar": {
             "outlinewidth": 0,
             "ticks": ""
            },
            "colorscale": [
             [
              0,
              "#0d0887"
             ],
             [
              0.1111111111111111,
              "#46039f"
             ],
             [
              0.2222222222222222,
              "#7201a8"
             ],
             [
              0.3333333333333333,
              "#9c179e"
             ],
             [
              0.4444444444444444,
              "#bd3786"
             ],
             [
              0.5555555555555556,
              "#d8576b"
             ],
             [
              0.6666666666666666,
              "#ed7953"
             ],
             [
              0.7777777777777778,
              "#fb9f3a"
             ],
             [
              0.8888888888888888,
              "#fdca26"
             ],
             [
              1,
              "#f0f921"
             ]
            ],
            "type": "histogram2d"
           }
          ],
          "histogram2dcontour": [
           {
            "colorbar": {
             "outlinewidth": 0,
             "ticks": ""
            },
            "colorscale": [
             [
              0,
              "#0d0887"
             ],
             [
              0.1111111111111111,
              "#46039f"
             ],
             [
              0.2222222222222222,
              "#7201a8"
             ],
             [
              0.3333333333333333,
              "#9c179e"
             ],
             [
              0.4444444444444444,
              "#bd3786"
             ],
             [
              0.5555555555555556,
              "#d8576b"
             ],
             [
              0.6666666666666666,
              "#ed7953"
             ],
             [
              0.7777777777777778,
              "#fb9f3a"
             ],
             [
              0.8888888888888888,
              "#fdca26"
             ],
             [
              1,
              "#f0f921"
             ]
            ],
            "type": "histogram2dcontour"
           }
          ],
          "mesh3d": [
           {
            "colorbar": {
             "outlinewidth": 0,
             "ticks": ""
            },
            "type": "mesh3d"
           }
          ],
          "parcoords": [
           {
            "line": {
             "colorbar": {
              "outlinewidth": 0,
              "ticks": ""
             }
            },
            "type": "parcoords"
           }
          ],
          "pie": [
           {
            "automargin": true,
            "type": "pie"
           }
          ],
          "scatter": [
           {
            "fillpattern": {
             "fillmode": "overlay",
             "size": 10,
             "solidity": 0.2
            },
            "type": "scatter"
           }
          ],
          "scatter3d": [
           {
            "line": {
             "colorbar": {
              "outlinewidth": 0,
              "ticks": ""
             }
            },
            "marker": {
             "colorbar": {
              "outlinewidth": 0,
              "ticks": ""
             }
            },
            "type": "scatter3d"
           }
          ],
          "scattercarpet": [
           {
            "marker": {
             "colorbar": {
              "outlinewidth": 0,
              "ticks": ""
             }
            },
            "type": "scattercarpet"
           }
          ],
          "scattergeo": [
           {
            "marker": {
             "colorbar": {
              "outlinewidth": 0,
              "ticks": ""
             }
            },
            "type": "scattergeo"
           }
          ],
          "scattergl": [
           {
            "marker": {
             "colorbar": {
              "outlinewidth": 0,
              "ticks": ""
             }
            },
            "type": "scattergl"
           }
          ],
          "scattermap": [
           {
            "marker": {
             "colorbar": {
              "outlinewidth": 0,
              "ticks": ""
             }
            },
            "type": "scattermap"
           }
          ],
          "scattermapbox": [
           {
            "marker": {
             "colorbar": {
              "outlinewidth": 0,
              "ticks": ""
             }
            },
            "type": "scattermapbox"
           }
          ],
          "scatterpolar": [
           {
            "marker": {
             "colorbar": {
              "outlinewidth": 0,
              "ticks": ""
             }
            },
            "type": "scatterpolar"
           }
          ],
          "scatterpolargl": [
           {
            "marker": {
             "colorbar": {
              "outlinewidth": 0,
              "ticks": ""
             }
            },
            "type": "scatterpolargl"
           }
          ],
          "scatterternary": [
           {
            "marker": {
             "colorbar": {
              "outlinewidth": 0,
              "ticks": ""
             }
            },
            "type": "scatterternary"
           }
          ],
          "surface": [
           {
            "colorbar": {
             "outlinewidth": 0,
             "ticks": ""
            },
            "colorscale": [
             [
              0,
              "#0d0887"
             ],
             [
              0.1111111111111111,
              "#46039f"
             ],
             [
              0.2222222222222222,
              "#7201a8"
             ],
             [
              0.3333333333333333,
              "#9c179e"
             ],
             [
              0.4444444444444444,
              "#bd3786"
             ],
             [
              0.5555555555555556,
              "#d8576b"
             ],
             [
              0.6666666666666666,
              "#ed7953"
             ],
             [
              0.7777777777777778,
              "#fb9f3a"
             ],
             [
              0.8888888888888888,
              "#fdca26"
             ],
             [
              1,
              "#f0f921"
             ]
            ],
            "type": "surface"
           }
          ],
          "table": [
           {
            "cells": {
             "fill": {
              "color": "#EBF0F8"
             },
             "line": {
              "color": "white"
             }
            },
            "header": {
             "fill": {
              "color": "#C8D4E3"
             },
             "line": {
              "color": "white"
             }
            },
            "type": "table"
           }
          ]
         },
         "layout": {
          "annotationdefaults": {
           "arrowcolor": "#2a3f5f",
           "arrowhead": 0,
           "arrowwidth": 1
          },
          "autotypenumbers": "strict",
          "coloraxis": {
           "colorbar": {
            "outlinewidth": 0,
            "ticks": ""
           }
          },
          "colorscale": {
           "diverging": [
            [
             0,
             "#8e0152"
            ],
            [
             0.1,
             "#c51b7d"
            ],
            [
             0.2,
             "#de77ae"
            ],
            [
             0.3,
             "#f1b6da"
            ],
            [
             0.4,
             "#fde0ef"
            ],
            [
             0.5,
             "#f7f7f7"
            ],
            [
             0.6,
             "#e6f5d0"
            ],
            [
             0.7,
             "#b8e186"
            ],
            [
             0.8,
             "#7fbc41"
            ],
            [
             0.9,
             "#4d9221"
            ],
            [
             1,
             "#276419"
            ]
           ],
           "sequential": [
            [
             0,
             "#0d0887"
            ],
            [
             0.1111111111111111,
             "#46039f"
            ],
            [
             0.2222222222222222,
             "#7201a8"
            ],
            [
             0.3333333333333333,
             "#9c179e"
            ],
            [
             0.4444444444444444,
             "#bd3786"
            ],
            [
             0.5555555555555556,
             "#d8576b"
            ],
            [
             0.6666666666666666,
             "#ed7953"
            ],
            [
             0.7777777777777778,
             "#fb9f3a"
            ],
            [
             0.8888888888888888,
             "#fdca26"
            ],
            [
             1,
             "#f0f921"
            ]
           ],
           "sequentialminus": [
            [
             0,
             "#0d0887"
            ],
            [
             0.1111111111111111,
             "#46039f"
            ],
            [
             0.2222222222222222,
             "#7201a8"
            ],
            [
             0.3333333333333333,
             "#9c179e"
            ],
            [
             0.4444444444444444,
             "#bd3786"
            ],
            [
             0.5555555555555556,
             "#d8576b"
            ],
            [
             0.6666666666666666,
             "#ed7953"
            ],
            [
             0.7777777777777778,
             "#fb9f3a"
            ],
            [
             0.8888888888888888,
             "#fdca26"
            ],
            [
             1,
             "#f0f921"
            ]
           ]
          },
          "colorway": [
           "#636efa",
           "#EF553B",
           "#00cc96",
           "#ab63fa",
           "#FFA15A",
           "#19d3f3",
           "#FF6692",
           "#B6E880",
           "#FF97FF",
           "#FECB52"
          ],
          "font": {
           "color": "#2a3f5f"
          },
          "geo": {
           "bgcolor": "white",
           "lakecolor": "white",
           "landcolor": "#E5ECF6",
           "showlakes": true,
           "showland": true,
           "subunitcolor": "white"
          },
          "hoverlabel": {
           "align": "left"
          },
          "hovermode": "closest",
          "mapbox": {
           "style": "light"
          },
          "paper_bgcolor": "white",
          "plot_bgcolor": "#E5ECF6",
          "polar": {
           "angularaxis": {
            "gridcolor": "white",
            "linecolor": "white",
            "ticks": ""
           },
           "bgcolor": "#E5ECF6",
           "radialaxis": {
            "gridcolor": "white",
            "linecolor": "white",
            "ticks": ""
           }
          },
          "scene": {
           "xaxis": {
            "backgroundcolor": "#E5ECF6",
            "gridcolor": "white",
            "gridwidth": 2,
            "linecolor": "white",
            "showbackground": true,
            "ticks": "",
            "zerolinecolor": "white"
           },
           "yaxis": {
            "backgroundcolor": "#E5ECF6",
            "gridcolor": "white",
            "gridwidth": 2,
            "linecolor": "white",
            "showbackground": true,
            "ticks": "",
            "zerolinecolor": "white"
           },
           "zaxis": {
            "backgroundcolor": "#E5ECF6",
            "gridcolor": "white",
            "gridwidth": 2,
            "linecolor": "white",
            "showbackground": true,
            "ticks": "",
            "zerolinecolor": "white"
           }
          },
          "shapedefaults": {
           "line": {
            "color": "#2a3f5f"
           }
          },
          "ternary": {
           "aaxis": {
            "gridcolor": "white",
            "linecolor": "white",
            "ticks": ""
           },
           "baxis": {
            "gridcolor": "white",
            "linecolor": "white",
            "ticks": ""
           },
           "bgcolor": "#E5ECF6",
           "caxis": {
            "gridcolor": "white",
            "linecolor": "white",
            "ticks": ""
           }
          },
          "title": {
           "x": 0.05
          },
          "xaxis": {
           "automargin": true,
           "gridcolor": "white",
           "linecolor": "white",
           "ticks": "",
           "title": {
            "standoff": 15
           },
           "zerolinecolor": "white",
           "zerolinewidth": 2
          },
          "yaxis": {
           "automargin": true,
           "gridcolor": "white",
           "linecolor": "white",
           "ticks": "",
           "title": {
            "standoff": 15
           },
           "zerolinecolor": "white",
           "zerolinewidth": 2
          }
         }
        },
        "title": {
         "text": "AI investments by country in 2024",
         "x": 0.5
        }
       }
      }
     },
     "metadata": {},
     "output_type": "display_data"
    },
    {
     "data": {
      "application/vnd.plotly.v1+json": {
       "config": {
        "plotlyServerURL": "https://plot.ly"
       },
       "data": [
        {
         "hovertemplate": "Year: %{x}<br>Projects: %{y}<extra></extra>",
         "marker": {
          "color": {
           "bdata": "Hg8EEEEOzxELEw==",
           "dtype": "i2"
          },
          "colorscale": [
           [
            0,
            "rgb(247,251,255)"
           ],
           [
            0.125,
            "rgb(222,235,247)"
           ],
           [
            0.25,
            "rgb(198,219,239)"
           ],
           [
            0.375,
            "rgb(158,202,225)"
           ],
           [
            0.5,
            "rgb(107,174,214)"
           ],
           [
            0.625,
            "rgb(66,146,198)"
           ],
           [
            0.75,
            "rgb(33,113,181)"
           ],
           [
            0.875,
            "rgb(8,81,156)"
           ],
           [
            1,
            "rgb(8,48,107)"
           ]
          ],
          "showscale": false
         },
         "name": "AI Projects",
         "text": {
          "bdata": "AAAAAAA8rkAAAAAAAASwQAAAAAAAgqxAAAAAAADPsUAAAAAAAAuzQA==",
          "dtype": "f8"
         },
         "textposition": "outside",
         "type": "bar",
         "x": {
          "bdata": "5AflB+YH5wfoBw==",
          "dtype": "i2"
         },
         "y": {
          "bdata": "Hg8EEEEOzxELEw==",
          "dtype": "i2"
         },
         "yaxis": "y"
        },
        {
         "hovertemplate": "Year: %{x}<br>Investments: %{y}<extra></extra>",
         "line": {
          "color": "#5e3c99",
          "width": 3
         },
         "mode": "lines+markers+text",
         "name": "Investment ($M)",
         "textposition": "top center",
         "type": "scatter",
         "x": {
          "bdata": "5AflB+YH5wfoBw==",
          "dtype": "i2"
         },
         "y": {
          "bdata": "exSuR2EsvkBSuB6FS77GQAAAAAAAQMNAXI/C9QjPy0DsUbgehdrKQA==",
          "dtype": "f8"
         },
         "yaxis": "y2"
        }
       ],
       "layout": {
        "legend": {
         "x": 0.01,
         "y": 0.99
        },
        "margin": {
         "b": 40,
         "l": 40,
         "r": 40,
         "t": 60
        },
        "paper_bgcolor": "white",
        "plot_bgcolor": "white",
        "template": {
         "data": {
          "bar": [
           {
            "error_x": {
             "color": "#2a3f5f"
            },
            "error_y": {
             "color": "#2a3f5f"
            },
            "marker": {
             "line": {
              "color": "#E5ECF6",
              "width": 0.5
             },
             "pattern": {
              "fillmode": "overlay",
              "size": 10,
              "solidity": 0.2
             }
            },
            "type": "bar"
           }
          ],
          "barpolar": [
           {
            "marker": {
             "line": {
              "color": "#E5ECF6",
              "width": 0.5
             },
             "pattern": {
              "fillmode": "overlay",
              "size": 10,
              "solidity": 0.2
             }
            },
            "type": "barpolar"
           }
          ],
          "carpet": [
           {
            "aaxis": {
             "endlinecolor": "#2a3f5f",
             "gridcolor": "white",
             "linecolor": "white",
             "minorgridcolor": "white",
             "startlinecolor": "#2a3f5f"
            },
            "baxis": {
             "endlinecolor": "#2a3f5f",
             "gridcolor": "white",
             "linecolor": "white",
             "minorgridcolor": "white",
             "startlinecolor": "#2a3f5f"
            },
            "type": "carpet"
           }
          ],
          "choropleth": [
           {
            "colorbar": {
             "outlinewidth": 0,
             "ticks": ""
            },
            "type": "choropleth"
           }
          ],
          "contour": [
           {
            "colorbar": {
             "outlinewidth": 0,
             "ticks": ""
            },
            "colorscale": [
             [
              0,
              "#0d0887"
             ],
             [
              0.1111111111111111,
              "#46039f"
             ],
             [
              0.2222222222222222,
              "#7201a8"
             ],
             [
              0.3333333333333333,
              "#9c179e"
             ],
             [
              0.4444444444444444,
              "#bd3786"
             ],
             [
              0.5555555555555556,
              "#d8576b"
             ],
             [
              0.6666666666666666,
              "#ed7953"
             ],
             [
              0.7777777777777778,
              "#fb9f3a"
             ],
             [
              0.8888888888888888,
              "#fdca26"
             ],
             [
              1,
              "#f0f921"
             ]
            ],
            "type": "contour"
           }
          ],
          "contourcarpet": [
           {
            "colorbar": {
             "outlinewidth": 0,
             "ticks": ""
            },
            "type": "contourcarpet"
           }
          ],
          "heatmap": [
           {
            "colorbar": {
             "outlinewidth": 0,
             "ticks": ""
            },
            "colorscale": [
             [
              0,
              "#0d0887"
             ],
             [
              0.1111111111111111,
              "#46039f"
             ],
             [
              0.2222222222222222,
              "#7201a8"
             ],
             [
              0.3333333333333333,
              "#9c179e"
             ],
             [
              0.4444444444444444,
              "#bd3786"
             ],
             [
              0.5555555555555556,
              "#d8576b"
             ],
             [
              0.6666666666666666,
              "#ed7953"
             ],
             [
              0.7777777777777778,
              "#fb9f3a"
             ],
             [
              0.8888888888888888,
              "#fdca26"
             ],
             [
              1,
              "#f0f921"
             ]
            ],
            "type": "heatmap"
           }
          ],
          "histogram": [
           {
            "marker": {
             "pattern": {
              "fillmode": "overlay",
              "size": 10,
              "solidity": 0.2
             }
            },
            "type": "histogram"
           }
          ],
          "histogram2d": [
           {
            "colorbar": {
             "outlinewidth": 0,
             "ticks": ""
            },
            "colorscale": [
             [
              0,
              "#0d0887"
             ],
             [
              0.1111111111111111,
              "#46039f"
             ],
             [
              0.2222222222222222,
              "#7201a8"
             ],
             [
              0.3333333333333333,
              "#9c179e"
             ],
             [
              0.4444444444444444,
              "#bd3786"
             ],
             [
              0.5555555555555556,
              "#d8576b"
             ],
             [
              0.6666666666666666,
              "#ed7953"
             ],
             [
              0.7777777777777778,
              "#fb9f3a"
             ],
             [
              0.8888888888888888,
              "#fdca26"
             ],
             [
              1,
              "#f0f921"
             ]
            ],
            "type": "histogram2d"
           }
          ],
          "histogram2dcontour": [
           {
            "colorbar": {
             "outlinewidth": 0,
             "ticks": ""
            },
            "colorscale": [
             [
              0,
              "#0d0887"
             ],
             [
              0.1111111111111111,
              "#46039f"
             ],
             [
              0.2222222222222222,
              "#7201a8"
             ],
             [
              0.3333333333333333,
              "#9c179e"
             ],
             [
              0.4444444444444444,
              "#bd3786"
             ],
             [
              0.5555555555555556,
              "#d8576b"
             ],
             [
              0.6666666666666666,
              "#ed7953"
             ],
             [
              0.7777777777777778,
              "#fb9f3a"
             ],
             [
              0.8888888888888888,
              "#fdca26"
             ],
             [
              1,
              "#f0f921"
             ]
            ],
            "type": "histogram2dcontour"
           }
          ],
          "mesh3d": [
           {
            "colorbar": {
             "outlinewidth": 0,
             "ticks": ""
            },
            "type": "mesh3d"
           }
          ],
          "parcoords": [
           {
            "line": {
             "colorbar": {
              "outlinewidth": 0,
              "ticks": ""
             }
            },
            "type": "parcoords"
           }
          ],
          "pie": [
           {
            "automargin": true,
            "type": "pie"
           }
          ],
          "scatter": [
           {
            "fillpattern": {
             "fillmode": "overlay",
             "size": 10,
             "solidity": 0.2
            },
            "type": "scatter"
           }
          ],
          "scatter3d": [
           {
            "line": {
             "colorbar": {
              "outlinewidth": 0,
              "ticks": ""
             }
            },
            "marker": {
             "colorbar": {
              "outlinewidth": 0,
              "ticks": ""
             }
            },
            "type": "scatter3d"
           }
          ],
          "scattercarpet": [
           {
            "marker": {
             "colorbar": {
              "outlinewidth": 0,
              "ticks": ""
             }
            },
            "type": "scattercarpet"
           }
          ],
          "scattergeo": [
           {
            "marker": {
             "colorbar": {
              "outlinewidth": 0,
              "ticks": ""
             }
            },
            "type": "scattergeo"
           }
          ],
          "scattergl": [
           {
            "marker": {
             "colorbar": {
              "outlinewidth": 0,
              "ticks": ""
             }
            },
            "type": "scattergl"
           }
          ],
          "scattermap": [
           {
            "marker": {
             "colorbar": {
              "outlinewidth": 0,
              "ticks": ""
             }
            },
            "type": "scattermap"
           }
          ],
          "scattermapbox": [
           {
            "marker": {
             "colorbar": {
              "outlinewidth": 0,
              "ticks": ""
             }
            },
            "type": "scattermapbox"
           }
          ],
          "scatterpolar": [
           {
            "marker": {
             "colorbar": {
              "outlinewidth": 0,
              "ticks": ""
             }
            },
            "type": "scatterpolar"
           }
          ],
          "scatterpolargl": [
           {
            "marker": {
             "colorbar": {
              "outlinewidth": 0,
              "ticks": ""
             }
            },
            "type": "scatterpolargl"
           }
          ],
          "scatterternary": [
           {
            "marker": {
             "colorbar": {
              "outlinewidth": 0,
              "ticks": ""
             }
            },
            "type": "scatterternary"
           }
          ],
          "surface": [
           {
            "colorbar": {
             "outlinewidth": 0,
             "ticks": ""
            },
            "colorscale": [
             [
              0,
              "#0d0887"
             ],
             [
              0.1111111111111111,
              "#46039f"
             ],
             [
              0.2222222222222222,
              "#7201a8"
             ],
             [
              0.3333333333333333,
              "#9c179e"
             ],
             [
              0.4444444444444444,
              "#bd3786"
             ],
             [
              0.5555555555555556,
              "#d8576b"
             ],
             [
              0.6666666666666666,
              "#ed7953"
             ],
             [
              0.7777777777777778,
              "#fb9f3a"
             ],
             [
              0.8888888888888888,
              "#fdca26"
             ],
             [
              1,
              "#f0f921"
             ]
            ],
            "type": "surface"
           }
          ],
          "table": [
           {
            "cells": {
             "fill": {
              "color": "#EBF0F8"
             },
             "line": {
              "color": "white"
             }
            },
            "header": {
             "fill": {
              "color": "#C8D4E3"
             },
             "line": {
              "color": "white"
             }
            },
            "type": "table"
           }
          ]
         },
         "layout": {
          "annotationdefaults": {
           "arrowcolor": "#2a3f5f",
           "arrowhead": 0,
           "arrowwidth": 1
          },
          "autotypenumbers": "strict",
          "coloraxis": {
           "colorbar": {
            "outlinewidth": 0,
            "ticks": ""
           }
          },
          "colorscale": {
           "diverging": [
            [
             0,
             "#8e0152"
            ],
            [
             0.1,
             "#c51b7d"
            ],
            [
             0.2,
             "#de77ae"
            ],
            [
             0.3,
             "#f1b6da"
            ],
            [
             0.4,
             "#fde0ef"
            ],
            [
             0.5,
             "#f7f7f7"
            ],
            [
             0.6,
             "#e6f5d0"
            ],
            [
             0.7,
             "#b8e186"
            ],
            [
             0.8,
             "#7fbc41"
            ],
            [
             0.9,
             "#4d9221"
            ],
            [
             1,
             "#276419"
            ]
           ],
           "sequential": [
            [
             0,
             "#0d0887"
            ],
            [
             0.1111111111111111,
             "#46039f"
            ],
            [
             0.2222222222222222,
             "#7201a8"
            ],
            [
             0.3333333333333333,
             "#9c179e"
            ],
            [
             0.4444444444444444,
             "#bd3786"
            ],
            [
             0.5555555555555556,
             "#d8576b"
            ],
            [
             0.6666666666666666,
             "#ed7953"
            ],
            [
             0.7777777777777778,
             "#fb9f3a"
            ],
            [
             0.8888888888888888,
             "#fdca26"
            ],
            [
             1,
             "#f0f921"
            ]
           ],
           "sequentialminus": [
            [
             0,
             "#0d0887"
            ],
            [
             0.1111111111111111,
             "#46039f"
            ],
            [
             0.2222222222222222,
             "#7201a8"
            ],
            [
             0.3333333333333333,
             "#9c179e"
            ],
            [
             0.4444444444444444,
             "#bd3786"
            ],
            [
             0.5555555555555556,
             "#d8576b"
            ],
            [
             0.6666666666666666,
             "#ed7953"
            ],
            [
             0.7777777777777778,
             "#fb9f3a"
            ],
            [
             0.8888888888888888,
             "#fdca26"
            ],
            [
             1,
             "#f0f921"
            ]
           ]
          },
          "colorway": [
           "#636efa",
           "#EF553B",
           "#00cc96",
           "#ab63fa",
           "#FFA15A",
           "#19d3f3",
           "#FF6692",
           "#B6E880",
           "#FF97FF",
           "#FECB52"
          ],
          "font": {
           "color": "#2a3f5f"
          },
          "geo": {
           "bgcolor": "white",
           "lakecolor": "white",
           "landcolor": "#E5ECF6",
           "showlakes": true,
           "showland": true,
           "subunitcolor": "white"
          },
          "hoverlabel": {
           "align": "left"
          },
          "hovermode": "closest",
          "mapbox": {
           "style": "light"
          },
          "paper_bgcolor": "white",
          "plot_bgcolor": "#E5ECF6",
          "polar": {
           "angularaxis": {
            "gridcolor": "white",
            "linecolor": "white",
            "ticks": ""
           },
           "bgcolor": "#E5ECF6",
           "radialaxis": {
            "gridcolor": "white",
            "linecolor": "white",
            "ticks": ""
           }
          },
          "scene": {
           "xaxis": {
            "backgroundcolor": "#E5ECF6",
            "gridcolor": "white",
            "gridwidth": 2,
            "linecolor": "white",
            "showbackground": true,
            "ticks": "",
            "zerolinecolor": "white"
           },
           "yaxis": {
            "backgroundcolor": "#E5ECF6",
            "gridcolor": "white",
            "gridwidth": 2,
            "linecolor": "white",
            "showbackground": true,
            "ticks": "",
            "zerolinecolor": "white"
           },
           "zaxis": {
            "backgroundcolor": "#E5ECF6",
            "gridcolor": "white",
            "gridwidth": 2,
            "linecolor": "white",
            "showbackground": true,
            "ticks": "",
            "zerolinecolor": "white"
           }
          },
          "shapedefaults": {
           "line": {
            "color": "#2a3f5f"
           }
          },
          "ternary": {
           "aaxis": {
            "gridcolor": "white",
            "linecolor": "white",
            "ticks": ""
           },
           "baxis": {
            "gridcolor": "white",
            "linecolor": "white",
            "ticks": ""
           },
           "bgcolor": "#E5ECF6",
           "caxis": {
            "gridcolor": "white",
            "linecolor": "white",
            "ticks": ""
           }
          },
          "title": {
           "x": 0.05
          },
          "xaxis": {
           "automargin": true,
           "gridcolor": "white",
           "linecolor": "white",
           "ticks": "",
           "title": {
            "standoff": 15
           },
           "zerolinecolor": "white",
           "zerolinewidth": 2
          },
          "yaxis": {
           "automargin": true,
           "gridcolor": "white",
           "linecolor": "white",
           "ticks": "",
           "title": {
            "standoff": 15
           },
           "zerolinecolor": "white",
           "zerolinewidth": 2
          }
         }
        },
        "title": {
         "text": "AI Projects and Investments by year"
        },
        "xaxis": {
         "title": {
          "text": "Year"
         }
        },
        "yaxis": {
         "showgrid": true,
         "side": "left",
         "title": {
          "text": "Number of projects"
         }
        },
        "yaxis2": {
         "overlaying": "y",
         "showgrid": false,
         "side": "right",
         "title": {
          "text": "Investments ($M)"
         }
        }
       }
      }
     },
     "metadata": {},
     "output_type": "display_data"
    },
    {
     "data": {
      "application/vnd.plotly.v1+json": {
       "config": {
        "plotlyServerURL": "https://plot.ly"
       },
       "data": [
        {
         "hovertemplate": "<b>%{hovertext}</b><br><br>Country=Australia<br>Year=2020<br>Investment_Mln=%{x}<br>AI_Users_Mln=%{y}<br>AI_Projects=%{marker.size}<extra></extra>",
         "hovertext": [
          "Australia"
         ],
         "ids": [
          "Australia"
         ],
         "legendgroup": "Australia",
         "marker": {
          "color": "#6A5ACD",
          "line": {
           "color": "rgba(0,0,0,0.2)",
           "width": 0.6
          },
          "size": {
           "bdata": "bA==",
           "dtype": "i1"
          },
          "sizemode": "area",
          "sizeref": 0.2175,
          "symbol": "circle"
         },
         "mode": "markers",
         "name": "Australia",
         "opacity": 0.85,
         "orientation": "v",
         "showlegend": true,
         "type": "scatter",
         "x": {
          "bdata": "w/UoXI8Kb0A=",
          "dtype": "f8"
         },
         "xaxis": "x",
         "y": {
          "bdata": "KVyPwvUo9D8=",
          "dtype": "f8"
         },
         "yaxis": "y"
        },
        {
         "hovertemplate": "<b>%{hovertext}</b><br><br>Country=Brazil<br>Year=2020<br>Investment_Mln=%{x}<br>AI_Users_Mln=%{y}<br>AI_Projects=%{marker.size}<extra></extra>",
         "hovertext": [
          "Brazil"
         ],
         "ids": [
          "Brazil"
         ],
         "legendgroup": "Brazil",
         "marker": {
          "color": "#7B68EE",
          "line": {
           "color": "rgba(0,0,0,0.2)",
           "width": 0.6
          },
          "size": {
           "bdata": "LgE=",
           "dtype": "i2"
          },
          "sizemode": "area",
          "sizeref": 0.2175,
          "symbol": "circle"
         },
         "mode": "markers",
         "name": "Brazil",
         "opacity": 0.85,
         "orientation": "v",
         "showlegend": true,
         "type": "scatter",
         "x": {
          "bdata": "rkfhehQQh0A=",
          "dtype": "f8"
         },
         "xaxis": "x",
         "y": {
          "bdata": "ZmZmZmZmHUA=",
          "dtype": "f8"
         },
         "yaxis": "y"
        },
        {
         "hovertemplate": "<b>%{hovertext}</b><br><br>Country=Canada<br>Year=2020<br>Investment_Mln=%{x}<br>AI_Users_Mln=%{y}<br>AI_Projects=%{marker.size}<extra></extra>",
         "hovertext": [
          "Canada"
         ],
         "ids": [
          "Canada"
         ],
         "legendgroup": "Canada",
         "marker": {
          "color": "#483D8B",
          "line": {
           "color": "rgba(0,0,0,0.2)",
           "width": 0.6
          },
          "size": {
           "bdata": "RgE=",
           "dtype": "i2"
          },
          "sizemode": "area",
          "sizeref": 0.2175,
          "symbol": "circle"
         },
         "mode": "markers",
         "name": "Canada",
         "opacity": 0.85,
         "orientation": "v",
         "showlegend": true,
         "type": "scatter",
         "x": {
          "bdata": "ZmZmZmazkEA=",
          "dtype": "f8"
         },
         "xaxis": "x",
         "y": {
          "bdata": "KVyPwvWoLkA=",
          "dtype": "f8"
         },
         "yaxis": "y"
        },
        {
         "hovertemplate": "<b>%{hovertext}</b><br><br>Country=China<br>Year=2020<br>Investment_Mln=%{x}<br>AI_Users_Mln=%{y}<br>AI_Projects=%{marker.size}<extra></extra>",
         "hovertext": [
          "China"
         ],
         "ids": [
          "China"
         ],
         "legendgroup": "China",
         "marker": {
          "color": "#9370DB",
          "line": {
           "color": "rgba(0,0,0,0.2)",
           "width": 0.6
          },
          "size": {
           "bdata": "xwI=",
           "dtype": "i2"
          },
          "sizemode": "area",
          "sizeref": 0.2175,
          "symbol": "circle"
         },
         "mode": "markers",
         "name": "China",
         "opacity": 0.85,
         "orientation": "v",
         "showlegend": true,
         "type": "scatter",
         "x": {
          "bdata": "Urgeheu/gEA=",
          "dtype": "f8"
         },
         "xaxis": "x",
         "y": {
          "bdata": "FK5H4XoUMkA=",
          "dtype": "f8"
         },
         "yaxis": "y"
        },
        {
         "hovertemplate": "<b>%{hovertext}</b><br><br>Country=France<br>Year=2020<br>Investment_Mln=%{x}<br>AI_Users_Mln=%{y}<br>AI_Projects=%{marker.size}<extra></extra>",
         "hovertext": [
          "France"
         ],
         "ids": [
          "France"
         ],
         "legendgroup": "France",
         "marker": {
          "color": "#8A2BE2",
          "line": {
           "color": "rgba(0,0,0,0.2)",
           "width": 0.6
          },
          "size": {
           "bdata": "BAI=",
           "dtype": "i2"
          },
          "sizemode": "area",
          "sizeref": 0.2175,
          "symbol": "circle"
         },
         "mode": "markers",
         "name": "France",
         "opacity": 0.85,
         "orientation": "v",
         "showlegend": true,
         "type": "scatter",
         "x": {
          "bdata": "CtejcD2ifkA=",
          "dtype": "f8"
         },
         "xaxis": "x",
         "y": {
          "bdata": "FK5H4XoUJ0A=",
          "dtype": "f8"
         },
         "yaxis": "y"
        },
        {
         "hovertemplate": "<b>%{hovertext}</b><br><br>Country=Germany<br>Year=2020<br>Investment_Mln=%{x}<br>AI_Users_Mln=%{y}<br>AI_Projects=%{marker.size}<extra></extra>",
         "hovertext": [
          "Germany"
         ],
         "ids": [
          "Germany"
         ],
         "legendgroup": "Germany",
         "marker": {
          "color": "#4169E1",
          "line": {
           "color": "rgba(0,0,0,0.2)",
           "width": 0.6
          },
          "size": {
           "bdata": "eQ==",
           "dtype": "i1"
          },
          "sizemode": "area",
          "sizeref": 0.2175,
          "symbol": "circle"
         },
         "mode": "markers",
         "name": "Germany",
         "opacity": 0.85,
         "orientation": "v",
         "showlegend": true,
         "type": "scatter",
         "x": {
          "bdata": "7FG4HoUneEA=",
          "dtype": "f8"
         },
         "xaxis": "x",
         "y": {
          "bdata": "16NwPQrXD0A=",
          "dtype": "f8"
         },
         "yaxis": "y"
        },
        {
         "hovertemplate": "<b>%{hovertext}</b><br><br>Country=India<br>Year=2020<br>Investment_Mln=%{x}<br>AI_Users_Mln=%{y}<br>AI_Projects=%{marker.size}<extra></extra>",
         "hovertext": [
          "India"
         ],
         "ids": [
          "India"
         ],
         "legendgroup": "India",
         "marker": {
          "color": "#6495ED",
          "line": {
           "color": "rgba(0,0,0,0.2)",
           "width": 0.6
          },
          "size": {
           "bdata": "pgE=",
           "dtype": "i2"
          },
          "sizemode": "area",
          "sizeref": 0.2175,
          "symbol": "circle"
         },
         "mode": "markers",
         "name": "India",
         "opacity": 0.85,
         "orientation": "v",
         "showlegend": true,
         "type": "scatter",
         "x": {
          "bdata": "rkfhehQilUA=",
          "dtype": "f8"
         },
         "xaxis": "x",
         "y": {
          "bdata": "exSuR+G6MUA=",
          "dtype": "f8"
         },
         "yaxis": "y"
        },
        {
         "hovertemplate": "<b>%{hovertext}</b><br><br>Country=Japan<br>Year=2020<br>Investment_Mln=%{x}<br>AI_Users_Mln=%{y}<br>AI_Projects=%{marker.size}<extra></extra>",
         "hovertext": [
          "Japan"
         ],
         "ids": [
          "Japan"
         ],
         "legendgroup": "Japan",
         "marker": {
          "color": "#1E90FF",
          "line": {
           "color": "rgba(0,0,0,0.2)",
           "width": 0.6
          },
          "size": {
           "bdata": "7QI=",
           "dtype": "i2"
          },
          "sizemode": "area",
          "sizeref": 0.2175,
          "symbol": "circle"
         },
         "mode": "markers",
         "name": "Japan",
         "opacity": 0.85,
         "orientation": "v",
         "showlegend": true,
         "type": "scatter",
         "x": {
          "bdata": "4XoUrkclmUA=",
          "dtype": "f8"
         },
         "xaxis": "x",
         "y": {
          "bdata": "7FG4HoXrJkA=",
          "dtype": "f8"
         },
         "yaxis": "y"
        },
        {
         "hovertemplate": "<b>%{hovertext}</b><br><br>Country=United Kingdom<br>Year=2020<br>Investment_Mln=%{x}<br>AI_Users_Mln=%{y}<br>AI_Projects=%{marker.size}<extra></extra>",
         "hovertext": [
          "United Kingdom"
         ],
         "ids": [
          "United Kingdom"
         ],
         "legendgroup": "United Kingdom",
         "marker": {
          "color": "#0050EF",
          "line": {
           "color": "rgba(0,0,0,0.2)",
           "width": 0.6
          },
          "size": {
           "bdata": "zwE=",
           "dtype": "i2"
          },
          "sizemode": "area",
          "sizeref": 0.2175,
          "symbol": "circle"
         },
         "mode": "markers",
         "name": "United Kingdom",
         "opacity": 0.85,
         "orientation": "v",
         "showlegend": true,
         "type": "scatter",
         "x": {
          "bdata": "4XoUrkcPhUA=",
          "dtype": "f8"
         },
         "xaxis": "x",
         "y": {
          "bdata": "hetRuB6FEkA=",
          "dtype": "f8"
         },
         "yaxis": "y"
        },
        {
         "hovertemplate": "<b>%{hovertext}</b><br><br>Country=USA<br>Year=2020<br>Investment_Mln=%{x}<br>AI_Users_Mln=%{y}<br>AI_Projects=%{marker.size}<extra></extra>",
         "hovertext": [
          "USA"
         ],
         "ids": [
          "USA"
         ],
         "legendgroup": "USA",
         "marker": {
          "color": "#4B0082",
          "line": {
           "color": "rgba(0,0,0,0.2)",
           "width": 0.6
          },
          "size": {
           "bdata": "mAA=",
           "dtype": "i2"
          },
          "sizemode": "area",
          "sizeref": 0.2175,
          "symbol": "circle"
         },
         "mode": "markers",
         "name": "USA",
         "opacity": 0.85,
         "orientation": "v",
         "showlegend": true,
         "type": "scatter",
         "x": {
          "bdata": "H4XrUbhmg0A=",
          "dtype": "f8"
         },
         "xaxis": "x",
         "y": {
          "bdata": "rkfhehSuEkA=",
          "dtype": "f8"
         },
         "yaxis": "y"
        }
       ],
       "frames": [
        {
         "data": [
          {
           "hovertemplate": "<b>%{hovertext}</b><br><br>Country=Australia<br>Year=2020<br>Investment_Mln=%{x}<br>AI_Users_Mln=%{y}<br>AI_Projects=%{marker.size}<extra></extra>",
           "hovertext": [
            "Australia"
           ],
           "ids": [
            "Australia"
           ],
           "legendgroup": "Australia",
           "marker": {
            "color": "#6A5ACD",
            "size": {
             "bdata": "bA==",
             "dtype": "i1"
            },
            "sizemode": "area",
            "sizeref": 0.2175,
            "symbol": "circle"
           },
           "mode": "markers",
           "name": "Australia",
           "orientation": "v",
           "showlegend": true,
           "type": "scatter",
           "x": {
            "bdata": "w/UoXI8Kb0A=",
            "dtype": "f8"
           },
           "xaxis": "x",
           "y": {
            "bdata": "KVyPwvUo9D8=",
            "dtype": "f8"
           },
           "yaxis": "y"
          },
          {
           "hovertemplate": "<b>%{hovertext}</b><br><br>Country=Brazil<br>Year=2020<br>Investment_Mln=%{x}<br>AI_Users_Mln=%{y}<br>AI_Projects=%{marker.size}<extra></extra>",
           "hovertext": [
            "Brazil"
           ],
           "ids": [
            "Brazil"
           ],
           "legendgroup": "Brazil",
           "marker": {
            "color": "#7B68EE",
            "size": {
             "bdata": "LgE=",
             "dtype": "i2"
            },
            "sizemode": "area",
            "sizeref": 0.2175,
            "symbol": "circle"
           },
           "mode": "markers",
           "name": "Brazil",
           "orientation": "v",
           "showlegend": true,
           "type": "scatter",
           "x": {
            "bdata": "rkfhehQQh0A=",
            "dtype": "f8"
           },
           "xaxis": "x",
           "y": {
            "bdata": "ZmZmZmZmHUA=",
            "dtype": "f8"
           },
           "yaxis": "y"
          },
          {
           "hovertemplate": "<b>%{hovertext}</b><br><br>Country=Canada<br>Year=2020<br>Investment_Mln=%{x}<br>AI_Users_Mln=%{y}<br>AI_Projects=%{marker.size}<extra></extra>",
           "hovertext": [
            "Canada"
           ],
           "ids": [
            "Canada"
           ],
           "legendgroup": "Canada",
           "marker": {
            "color": "#483D8B",
            "size": {
             "bdata": "RgE=",
             "dtype": "i2"
            },
            "sizemode": "area",
            "sizeref": 0.2175,
            "symbol": "circle"
           },
           "mode": "markers",
           "name": "Canada",
           "orientation": "v",
           "showlegend": true,
           "type": "scatter",
           "x": {
            "bdata": "ZmZmZmazkEA=",
            "dtype": "f8"
           },
           "xaxis": "x",
           "y": {
            "bdata": "KVyPwvWoLkA=",
            "dtype": "f8"
           },
           "yaxis": "y"
          },
          {
           "hovertemplate": "<b>%{hovertext}</b><br><br>Country=China<br>Year=2020<br>Investment_Mln=%{x}<br>AI_Users_Mln=%{y}<br>AI_Projects=%{marker.size}<extra></extra>",
           "hovertext": [
            "China"
           ],
           "ids": [
            "China"
           ],
           "legendgroup": "China",
           "marker": {
            "color": "#9370DB",
            "size": {
             "bdata": "xwI=",
             "dtype": "i2"
            },
            "sizemode": "area",
            "sizeref": 0.2175,
            "symbol": "circle"
           },
           "mode": "markers",
           "name": "China",
           "orientation": "v",
           "showlegend": true,
           "type": "scatter",
           "x": {
            "bdata": "Urgeheu/gEA=",
            "dtype": "f8"
           },
           "xaxis": "x",
           "y": {
            "bdata": "FK5H4XoUMkA=",
            "dtype": "f8"
           },
           "yaxis": "y"
          },
          {
           "hovertemplate": "<b>%{hovertext}</b><br><br>Country=France<br>Year=2020<br>Investment_Mln=%{x}<br>AI_Users_Mln=%{y}<br>AI_Projects=%{marker.size}<extra></extra>",
           "hovertext": [
            "France"
           ],
           "ids": [
            "France"
           ],
           "legendgroup": "France",
           "marker": {
            "color": "#8A2BE2",
            "size": {
             "bdata": "BAI=",
             "dtype": "i2"
            },
            "sizemode": "area",
            "sizeref": 0.2175,
            "symbol": "circle"
           },
           "mode": "markers",
           "name": "France",
           "orientation": "v",
           "showlegend": true,
           "type": "scatter",
           "x": {
            "bdata": "CtejcD2ifkA=",
            "dtype": "f8"
           },
           "xaxis": "x",
           "y": {
            "bdata": "FK5H4XoUJ0A=",
            "dtype": "f8"
           },
           "yaxis": "y"
          },
          {
           "hovertemplate": "<b>%{hovertext}</b><br><br>Country=Germany<br>Year=2020<br>Investment_Mln=%{x}<br>AI_Users_Mln=%{y}<br>AI_Projects=%{marker.size}<extra></extra>",
           "hovertext": [
            "Germany"
           ],
           "ids": [
            "Germany"
           ],
           "legendgroup": "Germany",
           "marker": {
            "color": "#4169E1",
            "size": {
             "bdata": "eQ==",
             "dtype": "i1"
            },
            "sizemode": "area",
            "sizeref": 0.2175,
            "symbol": "circle"
           },
           "mode": "markers",
           "name": "Germany",
           "orientation": "v",
           "showlegend": true,
           "type": "scatter",
           "x": {
            "bdata": "7FG4HoUneEA=",
            "dtype": "f8"
           },
           "xaxis": "x",
           "y": {
            "bdata": "16NwPQrXD0A=",
            "dtype": "f8"
           },
           "yaxis": "y"
          },
          {
           "hovertemplate": "<b>%{hovertext}</b><br><br>Country=India<br>Year=2020<br>Investment_Mln=%{x}<br>AI_Users_Mln=%{y}<br>AI_Projects=%{marker.size}<extra></extra>",
           "hovertext": [
            "India"
           ],
           "ids": [
            "India"
           ],
           "legendgroup": "India",
           "marker": {
            "color": "#6495ED",
            "size": {
             "bdata": "pgE=",
             "dtype": "i2"
            },
            "sizemode": "area",
            "sizeref": 0.2175,
            "symbol": "circle"
           },
           "mode": "markers",
           "name": "India",
           "orientation": "v",
           "showlegend": true,
           "type": "scatter",
           "x": {
            "bdata": "rkfhehQilUA=",
            "dtype": "f8"
           },
           "xaxis": "x",
           "y": {
            "bdata": "exSuR+G6MUA=",
            "dtype": "f8"
           },
           "yaxis": "y"
          },
          {
           "hovertemplate": "<b>%{hovertext}</b><br><br>Country=Japan<br>Year=2020<br>Investment_Mln=%{x}<br>AI_Users_Mln=%{y}<br>AI_Projects=%{marker.size}<extra></extra>",
           "hovertext": [
            "Japan"
           ],
           "ids": [
            "Japan"
           ],
           "legendgroup": "Japan",
           "marker": {
            "color": "#1E90FF",
            "size": {
             "bdata": "7QI=",
             "dtype": "i2"
            },
            "sizemode": "area",
            "sizeref": 0.2175,
            "symbol": "circle"
           },
           "mode": "markers",
           "name": "Japan",
           "orientation": "v",
           "showlegend": true,
           "type": "scatter",
           "x": {
            "bdata": "4XoUrkclmUA=",
            "dtype": "f8"
           },
           "xaxis": "x",
           "y": {
            "bdata": "7FG4HoXrJkA=",
            "dtype": "f8"
           },
           "yaxis": "y"
          },
          {
           "hovertemplate": "<b>%{hovertext}</b><br><br>Country=United Kingdom<br>Year=2020<br>Investment_Mln=%{x}<br>AI_Users_Mln=%{y}<br>AI_Projects=%{marker.size}<extra></extra>",
           "hovertext": [
            "United Kingdom"
           ],
           "ids": [
            "United Kingdom"
           ],
           "legendgroup": "United Kingdom",
           "marker": {
            "color": "#0050EF",
            "size": {
             "bdata": "zwE=",
             "dtype": "i2"
            },
            "sizemode": "area",
            "sizeref": 0.2175,
            "symbol": "circle"
           },
           "mode": "markers",
           "name": "United Kingdom",
           "orientation": "v",
           "showlegend": true,
           "type": "scatter",
           "x": {
            "bdata": "4XoUrkcPhUA=",
            "dtype": "f8"
           },
           "xaxis": "x",
           "y": {
            "bdata": "hetRuB6FEkA=",
            "dtype": "f8"
           },
           "yaxis": "y"
          },
          {
           "hovertemplate": "<b>%{hovertext}</b><br><br>Country=USA<br>Year=2020<br>Investment_Mln=%{x}<br>AI_Users_Mln=%{y}<br>AI_Projects=%{marker.size}<extra></extra>",
           "hovertext": [
            "USA"
           ],
           "ids": [
            "USA"
           ],
           "legendgroup": "USA",
           "marker": {
            "color": "#4B0082",
            "size": {
             "bdata": "mAA=",
             "dtype": "i2"
            },
            "sizemode": "area",
            "sizeref": 0.2175,
            "symbol": "circle"
           },
           "mode": "markers",
           "name": "USA",
           "orientation": "v",
           "showlegend": true,
           "type": "scatter",
           "x": {
            "bdata": "H4XrUbhmg0A=",
            "dtype": "f8"
           },
           "xaxis": "x",
           "y": {
            "bdata": "rkfhehSuEkA=",
            "dtype": "f8"
           },
           "yaxis": "y"
          }
         ],
         "name": "2020"
        },
        {
         "data": [
          {
           "hovertemplate": "<b>%{hovertext}</b><br><br>Country=Australia<br>Year=2021<br>Investment_Mln=%{x}<br>AI_Users_Mln=%{y}<br>AI_Projects=%{marker.size}<extra></extra>",
           "hovertext": [
            "Australia"
           ],
           "ids": [
            "Australia"
           ],
           "legendgroup": "Australia",
           "marker": {
            "color": "#6A5ACD",
            "size": {
             "bdata": "mwA=",
             "dtype": "i2"
            },
            "sizemode": "area",
            "sizeref": 0.2175,
            "symbol": "circle"
           },
           "mode": "markers",
           "name": "Australia",
           "orientation": "v",
           "showlegend": true,
           "type": "scatter",
           "x": {
            "bdata": "7FG4HoWXfUA=",
            "dtype": "f8"
           },
           "xaxis": "x",
           "y": {
            "bdata": "KVyPwvUo7D8=",
            "dtype": "f8"
           },
           "yaxis": "y"
          },
          {
           "hovertemplate": "<b>%{hovertext}</b><br><br>Country=Brazil<br>Year=2021<br>Investment_Mln=%{x}<br>AI_Users_Mln=%{y}<br>AI_Projects=%{marker.size}<extra></extra>",
           "hovertext": [
            "Brazil"
           ],
           "ids": [
            "Brazil"
           ],
           "legendgroup": "Brazil",
           "marker": {
            "color": "#7B68EE",
            "size": {
             "bdata": "tQE=",
             "dtype": "i2"
            },
            "sizemode": "area",
            "sizeref": 0.2175,
            "symbol": "circle"
           },
           "mode": "markers",
           "name": "Brazil",
           "orientation": "v",
           "showlegend": true,
           "type": "scatter",
           "x": {
            "bdata": "pHA9Ctf7iUA=",
            "dtype": "f8"
           },
           "xaxis": "x",
           "y": {
            "bdata": "mpmZmZkZKkA=",
            "dtype": "f8"
           },
           "yaxis": "y"
          },
          {
           "hovertemplate": "<b>%{hovertext}</b><br><br>Country=Canada<br>Year=2021<br>Investment_Mln=%{x}<br>AI_Users_Mln=%{y}<br>AI_Projects=%{marker.size}<extra></extra>",
           "hovertext": [
            "Canada"
           ],
           "ids": [
            "Canada"
           ],
           "legendgroup": "Canada",
           "marker": {
            "color": "#483D8B",
            "size": {
             "bdata": "VA==",
             "dtype": "i1"
            },
            "sizemode": "area",
            "sizeref": 0.2175,
            "symbol": "circle"
           },
           "mode": "markers",
           "name": "Canada",
           "orientation": "v",
           "showlegend": true,
           "type": "scatter",
           "x": {
            "bdata": "7FG4HoUbeEA=",
            "dtype": "f8"
           },
           "xaxis": "x",
           "y": {
            "bdata": "KVyPwvUoGkA=",
            "dtype": "f8"
           },
           "yaxis": "y"
          },
          {
           "hovertemplate": "<b>%{hovertext}</b><br><br>Country=China<br>Year=2021<br>Investment_Mln=%{x}<br>AI_Users_Mln=%{y}<br>AI_Projects=%{marker.size}<extra></extra>",
           "hovertext": [
            "China"
           ],
           "ids": [
            "China"
           ],
           "legendgroup": "China",
           "marker": {
            "color": "#9370DB",
            "size": {
             "bdata": "iwE=",
             "dtype": "i2"
            },
            "sizemode": "area",
            "sizeref": 0.2175,
            "symbol": "circle"
           },
           "mode": "markers",
           "name": "China",
           "orientation": "v",
           "showlegend": true,
           "type": "scatter",
           "x": {
            "bdata": "9ihcj8Ixd0A=",
            "dtype": "f8"
           },
           "xaxis": "x",
           "y": {
            "bdata": "pHA9CtcjMUA=",
            "dtype": "f8"
           },
           "yaxis": "y"
          },
          {
           "hovertemplate": "<b>%{hovertext}</b><br><br>Country=France<br>Year=2021<br>Investment_Mln=%{x}<br>AI_Users_Mln=%{y}<br>AI_Projects=%{marker.size}<extra></extra>",
           "hovertext": [
            "France"
           ],
           "ids": [
            "France"
           ],
           "legendgroup": "France",
           "marker": {
            "color": "#8A2BE2",
            "size": {
             "bdata": "uAI=",
             "dtype": "i2"
            },
            "sizemode": "area",
            "sizeref": 0.2175,
            "symbol": "circle"
           },
           "mode": "markers",
           "name": "France",
           "orientation": "v",
           "showlegend": true,
           "type": "scatter",
           "x": {
            "bdata": "cT0K16OQi0A=",
            "dtype": "f8"
           },
           "xaxis": "x",
           "y": {
            "bdata": "hetRuB6F+z8=",
            "dtype": "f8"
           },
           "yaxis": "y"
          },
          {
           "hovertemplate": "<b>%{hovertext}</b><br><br>Country=Germany<br>Year=2021<br>Investment_Mln=%{x}<br>AI_Users_Mln=%{y}<br>AI_Projects=%{marker.size}<extra></extra>",
           "hovertext": [
            "Germany"
           ],
           "ids": [
            "Germany"
           ],
           "legendgroup": "Germany",
           "marker": {
            "color": "#4169E1",
            "size": {
             "bdata": "JQE=",
             "dtype": "i2"
            },
            "sizemode": "area",
            "sizeref": 0.2175,
            "symbol": "circle"
           },
           "mode": "markers",
           "name": "Germany",
           "orientation": "v",
           "showlegend": true,
           "type": "scatter",
           "x": {
            "bdata": "zczMzMz8jEA=",
            "dtype": "f8"
           },
           "xaxis": "x",
           "y": {
            "bdata": "KVyPwvUo9D8=",
            "dtype": "f8"
           },
           "yaxis": "y"
          },
          {
           "hovertemplate": "<b>%{hovertext}</b><br><br>Country=India<br>Year=2021<br>Investment_Mln=%{x}<br>AI_Users_Mln=%{y}<br>AI_Projects=%{marker.size}<extra></extra>",
           "hovertext": [
            "India"
           ],
           "ids": [
            "India"
           ],
           "legendgroup": "India",
           "marker": {
            "color": "#6495ED",
            "size": {
             "bdata": "tQE=",
             "dtype": "i2"
            },
            "sizemode": "area",
            "sizeref": 0.2175,
            "symbol": "circle"
           },
           "mode": "markers",
           "name": "India",
           "orientation": "v",
           "showlegend": true,
           "type": "scatter",
           "x": {
            "bdata": "SOF6FK4uoEA=",
            "dtype": "f8"
           },
           "xaxis": "x",
           "y": {
            "bdata": "w/UoXI9CLEA=",
            "dtype": "f8"
           },
           "yaxis": "y"
          },
          {
           "hovertemplate": "<b>%{hovertext}</b><br><br>Country=Japan<br>Year=2021<br>Investment_Mln=%{x}<br>AI_Users_Mln=%{y}<br>AI_Projects=%{marker.size}<extra></extra>",
           "hovertext": [
            "Japan"
           ],
           "ids": [
            "Japan"
           ],
           "legendgroup": "Japan",
           "marker": {
            "color": "#1E90FF",
            "size": {
             "bdata": "wwE=",
             "dtype": "i2"
            },
            "sizemode": "area",
            "sizeref": 0.2175,
            "symbol": "circle"
           },
           "mode": "markers",
           "name": "Japan",
           "orientation": "v",
           "showlegend": true,
           "type": "scatter",
           "x": {
            "bdata": "7FG4HoUanEA=",
            "dtype": "f8"
           },
           "xaxis": "x",
           "y": {
            "bdata": "PQrXo3B9N0A=",
            "dtype": "f8"
           },
           "yaxis": "y"
          },
          {
           "hovertemplate": "<b>%{hovertext}</b><br><br>Country=United Kingdom<br>Year=2021<br>Investment_Mln=%{x}<br>AI_Users_Mln=%{y}<br>AI_Projects=%{marker.size}<extra></extra>",
           "hovertext": [
            "United Kingdom"
           ],
           "ids": [
            "United Kingdom"
           ],
           "legendgroup": "United Kingdom",
           "marker": {
            "color": "#0050EF",
            "size": {
             "bdata": "oAE=",
             "dtype": "i2"
            },
            "sizemode": "area",
            "sizeref": 0.2175,
            "symbol": "circle"
           },
           "mode": "markers",
           "name": "United Kingdom",
           "orientation": "v",
           "showlegend": true,
           "type": "scatter",
           "x": {
            "bdata": "4XoUrkc8l0A=",
            "dtype": "f8"
           },
           "xaxis": "x",
           "y": {
            "bdata": "FK5H4XqULkA=",
            "dtype": "f8"
           },
           "yaxis": "y"
          },
          {
           "hovertemplate": "<b>%{hovertext}</b><br><br>Country=USA<br>Year=2021<br>Investment_Mln=%{x}<br>AI_Users_Mln=%{y}<br>AI_Projects=%{marker.size}<extra></extra>",
           "hovertext": [
            "USA"
           ],
           "ids": [
            "USA"
           ],
           "legendgroup": "USA",
           "marker": {
            "color": "#4B0082",
            "size": {
             "bdata": "4AI=",
             "dtype": "i2"
            },
            "sizemode": "area",
            "sizeref": 0.2175,
            "symbol": "circle"
           },
           "mode": "markers",
           "name": "USA",
           "orientation": "v",
           "showlegend": true,
           "type": "scatter",
           "x": {
            "bdata": "SOF6FC7gokA=",
            "dtype": "f8"
           },
           "xaxis": "x",
           "y": {
            "bdata": "PQrXo3A9I0A=",
            "dtype": "f8"
           },
           "yaxis": "y"
          }
         ],
         "name": "2021"
        },
        {
         "data": [
          {
           "hovertemplate": "<b>%{hovertext}</b><br><br>Country=Australia<br>Year=2022<br>Investment_Mln=%{x}<br>AI_Users_Mln=%{y}<br>AI_Projects=%{marker.size}<extra></extra>",
           "hovertext": [
            "Australia"
           ],
           "ids": [
            "Australia"
           ],
           "legendgroup": "Australia",
           "marker": {
            "color": "#6A5ACD",
            "size": {
             "bdata": "uQE=",
             "dtype": "i2"
            },
            "sizemode": "area",
            "sizeref": 0.2175,
            "symbol": "circle"
           },
           "mode": "markers",
           "name": "Australia",
           "orientation": "v",
           "showlegend": true,
           "type": "scatter",
           "x": {
            "bdata": "pHA9CtcMmkA=",
            "dtype": "f8"
           },
           "xaxis": "x",
           "y": {
            "bdata": "zczMzMxMM0A=",
            "dtype": "f8"
           },
           "yaxis": "y"
          },
          {
           "hovertemplate": "<b>%{hovertext}</b><br><br>Country=Brazil<br>Year=2022<br>Investment_Mln=%{x}<br>AI_Users_Mln=%{y}<br>AI_Projects=%{marker.size}<extra></extra>",
           "hovertext": [
            "Brazil"
           ],
           "ids": [
            "Brazil"
           ],
           "legendgroup": "Brazil",
           "marker": {
            "color": "#7B68EE",
            "size": {
             "bdata": "CQI=",
             "dtype": "i2"
            },
            "sizemode": "area",
            "sizeref": 0.2175,
            "symbol": "circle"
           },
           "mode": "markers",
           "name": "Brazil",
           "orientation": "v",
           "showlegend": true,
           "type": "scatter",
           "x": {
            "bdata": "XI/C9ShYckA=",
            "dtype": "f8"
           },
           "xaxis": "x",
           "y": {
            "bdata": "MzMzMzMzFEA=",
            "dtype": "f8"
           },
           "yaxis": "y"
          },
          {
           "hovertemplate": "<b>%{hovertext}</b><br><br>Country=Canada<br>Year=2022<br>Investment_Mln=%{x}<br>AI_Users_Mln=%{y}<br>AI_Projects=%{marker.size}<extra></extra>",
           "hovertext": [
            "Canada"
           ],
           "ids": [
            "Canada"
           ],
           "legendgroup": "Canada",
           "marker": {
            "color": "#483D8B",
            "size": {
             "bdata": "OgI=",
             "dtype": "i2"
            },
            "sizemode": "area",
            "sizeref": 0.2175,
            "symbol": "circle"
           },
           "mode": "markers",
           "name": "Canada",
           "orientation": "v",
           "showlegend": true,
           "type": "scatter",
           "x": {
            "bdata": "hetRuJ6zoUA=",
            "dtype": "f8"
           },
           "xaxis": "x",
           "y": {
            "bdata": "MzMzMzMzFEA=",
            "dtype": "f8"
           },
           "yaxis": "y"
          },
          {
           "hovertemplate": "<b>%{hovertext}</b><br><br>Country=China<br>Year=2022<br>Investment_Mln=%{x}<br>AI_Users_Mln=%{y}<br>AI_Projects=%{marker.size}<extra></extra>",
           "hovertext": [
            "China"
           ],
           "ids": [
            "China"
           ],
           "legendgroup": "China",
           "marker": {
            "color": "#9370DB",
            "size": {
             "bdata": "7QA=",
             "dtype": "i2"
            },
            "sizemode": "area",
            "sizeref": 0.2175,
            "symbol": "circle"
           },
           "mode": "markers",
           "name": "China",
           "orientation": "v",
           "showlegend": true,
           "type": "scatter",
           "x": {
            "bdata": "uB6F61HKhUA=",
            "dtype": "f8"
           },
           "xaxis": "x",
           "y": {
            "bdata": "4XoUrkfhDEA=",
            "dtype": "f8"
           },
           "yaxis": "y"
          },
          {
           "hovertemplate": "<b>%{hovertext}</b><br><br>Country=France<br>Year=2022<br>Investment_Mln=%{x}<br>AI_Users_Mln=%{y}<br>AI_Projects=%{marker.size}<extra></extra>",
           "hovertext": [
            "France"
           ],
           "ids": [
            "France"
           ],
           "legendgroup": "France",
           "marker": {
            "color": "#8A2BE2",
            "size": {
             "bdata": "WQE=",
             "dtype": "i2"
            },
            "sizemode": "area",
            "sizeref": 0.2175,
            "symbol": "circle"
           },
           "mode": "markers",
           "name": "France",
           "orientation": "v",
           "showlegend": true,
           "type": "scatter",
           "x": {
            "bdata": "w/UoXI8ul0A=",
            "dtype": "f8"
           },
           "xaxis": "x",
           "y": {
            "bdata": "9ihcj8K1MkA=",
            "dtype": "f8"
           },
           "yaxis": "y"
          },
          {
           "hovertemplate": "<b>%{hovertext}</b><br><br>Country=Germany<br>Year=2022<br>Investment_Mln=%{x}<br>AI_Users_Mln=%{y}<br>AI_Projects=%{marker.size}<extra></extra>",
           "hovertext": [
            "Germany"
           ],
           "ids": [
            "Germany"
           ],
           "legendgroup": "Germany",
           "marker": {
            "color": "#4169E1",
            "size": {
             "bdata": "/wE=",
             "dtype": "i2"
            },
            "sizemode": "area",
            "sizeref": 0.2175,
            "symbol": "circle"
           },
           "mode": "markers",
           "name": "Germany",
           "orientation": "v",
           "showlegend": true,
           "type": "scatter",
           "x": {
            "bdata": "4XoUrkcRhkA=",
            "dtype": "f8"
           },
           "xaxis": "x",
           "y": {
            "bdata": "rkfhehSu8z8=",
            "dtype": "f8"
           },
           "yaxis": "y"
          },
          {
           "hovertemplate": "<b>%{hovertext}</b><br><br>Country=India<br>Year=2022<br>Investment_Mln=%{x}<br>AI_Users_Mln=%{y}<br>AI_Projects=%{marker.size}<extra></extra>",
           "hovertext": [
            "India"
           ],
           "ids": [
            "India"
           ],
           "legendgroup": "India",
           "marker": {
            "color": "#6495ED",
            "size": {
             "bdata": "Zg==",
             "dtype": "i1"
            },
            "sizemode": "area",
            "sizeref": 0.2175,
            "symbol": "circle"
           },
           "mode": "markers",
           "name": "India",
           "orientation": "v",
           "showlegend": true,
           "type": "scatter",
           "x": {
            "bdata": "hetRuB4FdEA=",
            "dtype": "f8"
           },
           "xaxis": "x",
           "y": {
            "bdata": "4XoUrkchOEA=",
            "dtype": "f8"
           },
           "yaxis": "y"
          },
          {
           "hovertemplate": "<b>%{hovertext}</b><br><br>Country=Japan<br>Year=2022<br>Investment_Mln=%{x}<br>AI_Users_Mln=%{y}<br>AI_Projects=%{marker.size}<extra></extra>",
           "hovertext": [
            "Japan"
           ],
           "ids": [
            "Japan"
           ],
           "legendgroup": "Japan",
           "marker": {
            "color": "#1E90FF",
            "size": {
             "bdata": "GwI=",
             "dtype": "i2"
            },
            "sizemode": "area",
            "sizeref": 0.2175,
            "symbol": "circle"
           },
           "mode": "markers",
           "name": "Japan",
           "orientation": "v",
           "showlegend": true,
           "type": "scatter",
           "x": {
            "bdata": "pHA9CtfLkUA=",
            "dtype": "f8"
           },
           "xaxis": "x",
           "y": {
            "bdata": "7FG4HoXrB0A=",
            "dtype": "f8"
           },
           "yaxis": "y"
          },
          {
           "hovertemplate": "<b>%{hovertext}</b><br><br>Country=United Kingdom<br>Year=2022<br>Investment_Mln=%{x}<br>AI_Users_Mln=%{y}<br>AI_Projects=%{marker.size}<extra></extra>",
           "hovertext": [
            "United Kingdom"
           ],
           "ids": [
            "United Kingdom"
           ],
           "legendgroup": "United Kingdom",
           "marker": {
            "color": "#0050EF",
            "size": {
             "bdata": "QA==",
             "dtype": "i1"
            },
            "sizemode": "area",
            "sizeref": 0.2175,
            "symbol": "circle"
           },
           "mode": "markers",
           "name": "United Kingdom",
           "orientation": "v",
           "showlegend": true,
           "type": "scatter",
           "x": {
            "bdata": "ZmZmZmbmU0A=",
            "dtype": "f8"
           },
           "xaxis": "x",
           "y": {
            "bdata": "XI/C9Shc3z8=",
            "dtype": "f8"
           },
           "yaxis": "y"
          },
          {
           "hovertemplate": "<b>%{hovertext}</b><br><br>Country=USA<br>Year=2022<br>Investment_Mln=%{x}<br>AI_Users_Mln=%{y}<br>AI_Projects=%{marker.size}<extra></extra>",
           "hovertext": [
            "USA"
           ],
           "ids": [
            "USA"
           ],
           "legendgroup": "USA",
           "marker": {
            "color": "#4B0082",
            "size": {
             "bdata": "PwE=",
             "dtype": "i2"
            },
            "sizemode": "area",
            "sizeref": 0.2175,
            "symbol": "circle"
           },
           "mode": "markers",
           "name": "USA",
           "orientation": "v",
           "showlegend": true,
           "type": "scatter",
           "x": {
            "bdata": "AAAAAADOkkA=",
            "dtype": "f8"
           },
           "xaxis": "x",
           "y": {
            "bdata": "9ihcj8J1IEA=",
            "dtype": "f8"
           },
           "yaxis": "y"
          }
         ],
         "name": "2022"
        },
        {
         "data": [
          {
           "hovertemplate": "<b>%{hovertext}</b><br><br>Country=Australia<br>Year=2023<br>Investment_Mln=%{x}<br>AI_Users_Mln=%{y}<br>AI_Projects=%{marker.size}<extra></extra>",
           "hovertext": [
            "Australia"
           ],
           "ids": [
            "Australia"
           ],
           "legendgroup": "Australia",
           "marker": {
            "color": "#6A5ACD",
            "size": {
             "bdata": "IgE=",
             "dtype": "i2"
            },
            "sizemode": "area",
            "sizeref": 0.2175,
            "symbol": "circle"
           },
           "mode": "markers",
           "name": "Australia",
           "orientation": "v",
           "showlegend": true,
           "type": "scatter",
           "x": {
            "bdata": "pHA9CtdZgUA=",
            "dtype": "f8"
           },
           "xaxis": "x",
           "y": {
            "bdata": "hetRuB6FKUA=",
            "dtype": "f8"
           },
           "yaxis": "y"
          },
          {
           "hovertemplate": "<b>%{hovertext}</b><br><br>Country=Brazil<br>Year=2023<br>Investment_Mln=%{x}<br>AI_Users_Mln=%{y}<br>AI_Projects=%{marker.size}<extra></extra>",
           "hovertext": [
            "Brazil"
           ],
           "ids": [
            "Brazil"
           ],
           "legendgroup": "Brazil",
           "marker": {
            "color": "#7B68EE",
            "size": {
             "bdata": "/gE=",
             "dtype": "i2"
            },
            "sizemode": "area",
            "sizeref": 0.2175,
            "symbol": "circle"
           },
           "mode": "markers",
           "name": "Brazil",
           "orientation": "v",
           "showlegend": true,
           "type": "scatter",
           "x": {
            "bdata": "mpmZmZlvhkA=",
            "dtype": "f8"
           },
           "xaxis": "x",
           "y": {
            "bdata": "ZmZmZmZmNkA=",
            "dtype": "f8"
           },
           "yaxis": "y"
          },
          {
           "hovertemplate": "<b>%{hovertext}</b><br><br>Country=Canada<br>Year=2023<br>Investment_Mln=%{x}<br>AI_Users_Mln=%{y}<br>AI_Projects=%{marker.size}<extra></extra>",
           "hovertext": [
            "Canada"
           ],
           "ids": [
            "Canada"
           ],
           "legendgroup": "Canada",
           "marker": {
            "color": "#483D8B",
            "size": {
             "bdata": "ugE=",
             "dtype": "i2"
            },
            "sizemode": "area",
            "sizeref": 0.2175,
            "symbol": "circle"
           },
           "mode": "markers",
           "name": "Canada",
           "orientation": "v",
           "showlegend": true,
           "type": "scatter",
           "x": {
            "bdata": "16NwPQqKmUA=",
            "dtype": "f8"
           },
           "xaxis": "x",
           "y": {
            "bdata": "4XoUrkfhBkA=",
            "dtype": "f8"
           },
           "yaxis": "y"
          },
          {
           "hovertemplate": "<b>%{hovertext}</b><br><br>Country=China<br>Year=2023<br>Investment_Mln=%{x}<br>AI_Users_Mln=%{y}<br>AI_Projects=%{marker.size}<extra></extra>",
           "hovertext": [
            "China"
           ],
           "ids": [
            "China"
           ],
           "legendgroup": "China",
           "marker": {
            "color": "#9370DB",
            "size": {
             "bdata": "lgI=",
             "dtype": "i2"
            },
            "sizemode": "area",
            "sizeref": 0.2175,
            "symbol": "circle"
           },
           "mode": "markers",
           "name": "China",
           "orientation": "v",
           "showlegend": true,
           "type": "scatter",
           "x": {
            "bdata": "KVyPwnUzqUA=",
            "dtype": "f8"
           },
           "xaxis": "x",
           "y": {
            "bdata": "PQrXo3A9NUA=",
            "dtype": "f8"
           },
           "yaxis": "y"
          },
          {
           "hovertemplate": "<b>%{hovertext}</b><br><br>Country=France<br>Year=2023<br>Investment_Mln=%{x}<br>AI_Users_Mln=%{y}<br>AI_Projects=%{marker.size}<extra></extra>",
           "hovertext": [
            "France"
           ],
           "ids": [
            "France"
           ],
           "legendgroup": "France",
           "marker": {
            "color": "#8A2BE2",
            "size": {
             "bdata": "CQM=",
             "dtype": "i2"
            },
            "sizemode": "area",
            "sizeref": 0.2175,
            "symbol": "circle"
           },
           "mode": "markers",
           "name": "France",
           "orientation": "v",
           "showlegend": true,
           "type": "scatter",
           "x": {
            "bdata": "zczMzMw5pUA=",
            "dtype": "f8"
           },
           "xaxis": "x",
           "y": {
            "bdata": "pHA9CtejLUA=",
            "dtype": "f8"
           },
           "yaxis": "y"
          },
          {
           "hovertemplate": "<b>%{hovertext}</b><br><br>Country=Germany<br>Year=2023<br>Investment_Mln=%{x}<br>AI_Users_Mln=%{y}<br>AI_Projects=%{marker.size}<extra></extra>",
           "hovertext": [
            "Germany"
           ],
           "ids": [
            "Germany"
           ],
           "legendgroup": "Germany",
           "marker": {
            "color": "#4169E1",
            "size": {
             "bdata": "Ug==",
             "dtype": "i1"
            },
            "sizemode": "area",
            "sizeref": 0.2175,
            "symbol": "circle"
           },
           "mode": "markers",
           "name": "Germany",
           "orientation": "v",
           "showlegend": true,
           "type": "scatter",
           "x": {
            "bdata": "zczMzMwcUEA=",
            "dtype": "f8"
           },
           "xaxis": "x",
           "y": {
            "bdata": "XI/C9ShcH0A=",
            "dtype": "f8"
           },
           "yaxis": "y"
          },
          {
           "hovertemplate": "<b>%{hovertext}</b><br><br>Country=India<br>Year=2023<br>Investment_Mln=%{x}<br>AI_Users_Mln=%{y}<br>AI_Projects=%{marker.size}<extra></extra>",
           "hovertext": [
            "India"
           ],
           "ids": [
            "India"
           ],
           "legendgroup": "India",
           "marker": {
            "color": "#6495ED",
            "size": {
             "bdata": "BwM=",
             "dtype": "i2"
            },
            "sizemode": "area",
            "sizeref": 0.2175,
            "symbol": "circle"
           },
           "mode": "markers",
           "name": "India",
           "orientation": "v",
           "showlegend": true,
           "type": "scatter",
           "x": {
            "bdata": "zczMzEwzq0A=",
            "dtype": "f8"
           },
           "xaxis": "x",
           "y": {
            "bdata": "uB6F61G4J0A=",
            "dtype": "f8"
           },
           "yaxis": "y"
          },
          {
           "hovertemplate": "<b>%{hovertext}</b><br><br>Country=Japan<br>Year=2023<br>Investment_Mln=%{x}<br>AI_Users_Mln=%{y}<br>AI_Projects=%{marker.size}<extra></extra>",
           "hovertext": [
            "Japan"
           ],
           "ids": [
            "Japan"
           ],
           "legendgroup": "Japan",
           "marker": {
            "color": "#1E90FF",
            "size": {
             "bdata": "DwM=",
             "dtype": "i2"
            },
            "sizemode": "area",
            "sizeref": 0.2175,
            "symbol": "circle"
           },
           "mode": "markers",
           "name": "Japan",
           "orientation": "v",
           "showlegend": true,
           "type": "scatter",
           "x": {
            "bdata": "PQrXo3CTi0A=",
            "dtype": "f8"
           },
           "xaxis": "x",
           "y": {
            "bdata": "zczMzMxMLkA=",
            "dtype": "f8"
           },
           "yaxis": "y"
          },
          {
           "hovertemplate": "<b>%{hovertext}</b><br><br>Country=United Kingdom<br>Year=2023<br>Investment_Mln=%{x}<br>AI_Users_Mln=%{y}<br>AI_Projects=%{marker.size}<extra></extra>",
           "hovertext": [
            "United Kingdom"
           ],
           "ids": [
            "United Kingdom"
           ],
           "legendgroup": "United Kingdom",
           "marker": {
            "color": "#0050EF",
            "size": {
             "bdata": "Ng==",
             "dtype": "i1"
            },
            "sizemode": "area",
            "sizeref": 0.2175,
            "symbol": "circle"
           },
           "mode": "markers",
           "name": "United Kingdom",
           "orientation": "v",
           "showlegend": true,
           "type": "scatter",
           "x": {
            "bdata": "FK5H4XpsZEA=",
            "dtype": "f8"
           },
           "xaxis": "x",
           "y": {
            "bdata": "zczMzMxMM0A=",
            "dtype": "f8"
           },
           "yaxis": "y"
          },
          {
           "hovertemplate": "<b>%{hovertext}</b><br><br>Country=USA<br>Year=2023<br>Investment_Mln=%{x}<br>AI_Users_Mln=%{y}<br>AI_Projects=%{marker.size}<extra></extra>",
           "hovertext": [
            "USA"
           ],
           "ids": [
            "USA"
           ],
           "legendgroup": "USA",
           "marker": {
            "color": "#4B0082",
            "size": {
             "bdata": "uAA=",
             "dtype": "i2"
            },
            "sizemode": "area",
            "sizeref": 0.2175,
            "symbol": "circle"
           },
           "mode": "markers",
           "name": "USA",
           "orientation": "v",
           "showlegend": true,
           "type": "scatter",
           "x": {
            "bdata": "cT0K16PeiEA=",
            "dtype": "f8"
           },
           "xaxis": "x",
           "y": {
            "bdata": "FK5H4XqUJkA=",
            "dtype": "f8"
           },
           "yaxis": "y"
          }
         ],
         "name": "2023"
        },
        {
         "data": [
          {
           "hovertemplate": "<b>%{hovertext}</b><br><br>Country=Australia<br>Year=2024<br>Investment_Mln=%{x}<br>AI_Users_Mln=%{y}<br>AI_Projects=%{marker.size}<extra></extra>",
           "hovertext": [
            "Australia"
           ],
           "ids": [
            "Australia"
           ],
           "legendgroup": "Australia",
           "marker": {
            "color": "#6A5ACD",
            "size": {
             "bdata": "mAE=",
             "dtype": "i2"
            },
            "sizemode": "area",
            "sizeref": 0.2175,
            "symbol": "circle"
           },
           "mode": "markers",
           "name": "Australia",
           "orientation": "v",
           "showlegend": true,
           "type": "scatter",
           "x": {
            "bdata": "KVyPwvWkf0A=",
            "dtype": "f8"
           },
           "xaxis": "x",
           "y": {
            "bdata": "zczMzMzMKkA=",
            "dtype": "f8"
           },
           "yaxis": "y"
          },
          {
           "hovertemplate": "<b>%{hovertext}</b><br><br>Country=Brazil<br>Year=2024<br>Investment_Mln=%{x}<br>AI_Users_Mln=%{y}<br>AI_Projects=%{marker.size}<extra></extra>",
           "hovertext": [
            "Brazil"
           ],
           "ids": [
            "Brazil"
           ],
           "legendgroup": "Brazil",
           "marker": {
            "color": "#7B68EE",
            "size": {
             "bdata": "qgI=",
             "dtype": "i2"
            },
            "sizemode": "area",
            "sizeref": 0.2175,
            "symbol": "circle"
           },
           "mode": "markers",
           "name": "Brazil",
           "orientation": "v",
           "showlegend": true,
           "type": "scatter",
           "x": {
            "bdata": "FK5H4fpGpkA=",
            "dtype": "f8"
           },
           "xaxis": "x",
           "y": {
            "bdata": "SOF6FK6HNUA=",
            "dtype": "f8"
           },
           "yaxis": "y"
          },
          {
           "hovertemplate": "<b>%{hovertext}</b><br><br>Country=Canada<br>Year=2024<br>Investment_Mln=%{x}<br>AI_Users_Mln=%{y}<br>AI_Projects=%{marker.size}<extra></extra>",
           "hovertext": [
            "Canada"
           ],
           "ids": [
            "Canada"
           ],
           "legendgroup": "Canada",
           "marker": {
            "color": "#483D8B",
            "size": {
             "bdata": "7wA=",
             "dtype": "i2"
            },
            "sizemode": "area",
            "sizeref": 0.2175,
            "symbol": "circle"
           },
           "mode": "markers",
           "name": "Canada",
           "orientation": "v",
           "showlegend": true,
           "type": "scatter",
           "x": {
            "bdata": "7FG4HoW7bUA=",
            "dtype": "f8"
           },
           "xaxis": "x",
           "y": {
            "bdata": "H4XrUbgeF0A=",
            "dtype": "f8"
           },
           "yaxis": "y"
          },
          {
           "hovertemplate": "<b>%{hovertext}</b><br><br>Country=China<br>Year=2024<br>Investment_Mln=%{x}<br>AI_Users_Mln=%{y}<br>AI_Projects=%{marker.size}<extra></extra>",
           "hovertext": [
            "China"
           ],
           "ids": [
            "China"
           ],
           "legendgroup": "China",
           "marker": {
            "color": "#9370DB",
            "size": {
             "bdata": "hQE=",
             "dtype": "i2"
            },
            "sizemode": "area",
            "sizeref": 0.2175,
            "symbol": "circle"
           },
           "mode": "markers",
           "name": "China",
           "orientation": "v",
           "showlegend": true,
           "type": "scatter",
           "x": {
            "bdata": "SOF6FK5zm0A=",
            "dtype": "f8"
           },
           "xaxis": "x",
           "y": {
            "bdata": "j8L1KFwPK0A=",
            "dtype": "f8"
           },
           "yaxis": "y"
          },
          {
           "hovertemplate": "<b>%{hovertext}</b><br><br>Country=France<br>Year=2024<br>Investment_Mln=%{x}<br>AI_Users_Mln=%{y}<br>AI_Projects=%{marker.size}<extra></extra>",
           "hovertext": [
            "France"
           ],
           "ids": [
            "France"
           ],
           "legendgroup": "France",
           "marker": {
            "color": "#8A2BE2",
            "size": {
             "bdata": "cwI=",
             "dtype": "i2"
            },
            "sizemode": "area",
            "sizeref": 0.2175,
            "symbol": "circle"
           },
           "mode": "markers",
           "name": "France",
           "orientation": "v",
           "showlegend": true,
           "type": "scatter",
           "x": {
            "bdata": "H4XrUTg2oEA=",
            "dtype": "f8"
           },
           "xaxis": "x",
           "y": {
            "bdata": "16NwPQrXHUA=",
            "dtype": "f8"
           },
           "yaxis": "y"
          },
          {
           "hovertemplate": "<b>%{hovertext}</b><br><br>Country=Germany<br>Year=2024<br>Investment_Mln=%{x}<br>AI_Users_Mln=%{y}<br>AI_Projects=%{marker.size}<extra></extra>",
           "hovertext": [
            "Germany"
           ],
           "ids": [
            "Germany"
           ],
           "legendgroup": "Germany",
           "marker": {
            "color": "#4169E1",
            "size": {
             "bdata": "0QA=",
             "dtype": "i2"
            },
            "sizemode": "area",
            "sizeref": 0.2175,
            "symbol": "circle"
           },
           "mode": "markers",
           "name": "Germany",
           "orientation": "v",
           "showlegend": true,
           "type": "scatter",
           "x": {
            "bdata": "pHA9CtfdhEA=",
            "dtype": "f8"
           },
           "xaxis": "x",
           "y": {
            "bdata": "ZmZmZmZmMUA=",
            "dtype": "f8"
           },
           "yaxis": "y"
          },
          {
           "hovertemplate": "<b>%{hovertext}</b><br><br>Country=India<br>Year=2024<br>Investment_Mln=%{x}<br>AI_Users_Mln=%{y}<br>AI_Projects=%{marker.size}<extra></extra>",
           "hovertext": [
            "India"
           ],
           "ids": [
            "India"
           ],
           "legendgroup": "India",
           "marker": {
            "color": "#6495ED",
            "size": {
             "bdata": "twI=",
             "dtype": "i2"
            },
            "sizemode": "area",
            "sizeref": 0.2175,
            "symbol": "circle"
           },
           "mode": "markers",
           "name": "India",
           "orientation": "v",
           "showlegend": true,
           "type": "scatter",
           "x": {
            "bdata": "CtejcD29m0A=",
            "dtype": "f8"
           },
           "xaxis": "x",
           "y": {
            "bdata": "KVyPwvUoFkA=",
            "dtype": "f8"
           },
           "yaxis": "y"
          },
          {
           "hovertemplate": "<b>%{hovertext}</b><br><br>Country=Japan<br>Year=2024<br>Investment_Mln=%{x}<br>AI_Users_Mln=%{y}<br>AI_Projects=%{marker.size}<extra></extra>",
           "hovertext": [
            "Japan"
           ],
           "ids": [
            "Japan"
           ],
           "legendgroup": "Japan",
           "marker": {
            "color": "#1E90FF",
            "size": {
             "bdata": "bwE=",
             "dtype": "i2"
            },
            "sizemode": "area",
            "sizeref": 0.2175,
            "symbol": "circle"
           },
           "mode": "markers",
           "name": "Japan",
           "orientation": "v",
           "showlegend": true,
           "type": "scatter",
           "x": {
            "bdata": "FK5H4XoygUA=",
            "dtype": "f8"
           },
           "xaxis": "x",
           "y": {
            "bdata": "pHA9CtejCEA=",
            "dtype": "f8"
           },
           "yaxis": "y"
          },
          {
           "hovertemplate": "<b>%{hovertext}</b><br><br>Country=United Kingdom<br>Year=2024<br>Investment_Mln=%{x}<br>AI_Users_Mln=%{y}<br>AI_Projects=%{marker.size}<extra></extra>",
           "hovertext": [
            "United Kingdom"
           ],
           "ids": [
            "United Kingdom"
           ],
           "legendgroup": "United Kingdom",
           "marker": {
            "color": "#0050EF",
            "size": {
             "bdata": "KwI=",
             "dtype": "i2"
            },
            "sizemode": "area",
            "sizeref": 0.2175,
            "symbol": "circle"
           },
           "mode": "markers",
           "name": "United Kingdom",
           "orientation": "v",
           "showlegend": true,
           "type": "scatter",
           "x": {
            "bdata": "4XoUrkczgkA=",
            "dtype": "f8"
           },
           "xaxis": "x",
           "y": {
            "bdata": "cT0K16PwIUA=",
            "dtype": "f8"
           },
           "yaxis": "y"
          },
          {
           "hovertemplate": "<b>%{hovertext}</b><br><br>Country=USA<br>Year=2024<br>Investment_Mln=%{x}<br>AI_Users_Mln=%{y}<br>AI_Projects=%{marker.size}<extra></extra>",
           "hovertext": [
            "USA"
           ],
           "ids": [
            "USA"
           ],
           "legendgroup": "USA",
           "marker": {
            "color": "#4B0082",
            "size": {
             "bdata": "wAI=",
             "dtype": "i2"
            },
            "sizemode": "area",
            "sizeref": 0.2175,
            "symbol": "circle"
           },
           "mode": "markers",
           "name": "USA",
           "orientation": "v",
           "showlegend": true,
           "type": "scatter",
           "x": {
            "bdata": "SOF6FC5zpUA=",
            "dtype": "f8"
           },
           "xaxis": "x",
           "y": {
            "bdata": "MzMzMzMzF0A=",
            "dtype": "f8"
           },
           "yaxis": "y"
          }
         ],
         "name": "2024"
        }
       ],
       "layout": {
        "font": {
         "family": "Arial",
         "size": 12
        },
        "legend": {
         "itemsizing": "constant",
         "title": {
          "text": "Country"
         },
         "tracegroupgap": 0
        },
        "margin": {
         "b": 60,
         "l": 40,
         "r": 40,
         "t": 60
        },
        "paper_bgcolor": "white",
        "plot_bgcolor": "white",
        "sliders": [
         {
          "active": 0,
          "currentvalue": {
           "prefix": "Year="
          },
          "len": 0.9,
          "pad": {
           "b": 10,
           "t": 60
          },
          "steps": [
           {
            "args": [
             [
              "2020"
             ],
             {
              "frame": {
               "duration": 0,
               "redraw": false
              },
              "fromcurrent": true,
              "mode": "immediate",
              "transition": {
               "duration": 0,
               "easing": "linear"
              }
             }
            ],
            "label": "2020",
            "method": "animate"
           },
           {
            "args": [
             [
              "2021"
             ],
             {
              "frame": {
               "duration": 0,
               "redraw": false
              },
              "fromcurrent": true,
              "mode": "immediate",
              "transition": {
               "duration": 0,
               "easing": "linear"
              }
             }
            ],
            "label": "2021",
            "method": "animate"
           },
           {
            "args": [
             [
              "2022"
             ],
             {
              "frame": {
               "duration": 0,
               "redraw": false
              },
              "fromcurrent": true,
              "mode": "immediate",
              "transition": {
               "duration": 0,
               "easing": "linear"
              }
             }
            ],
            "label": "2022",
            "method": "animate"
           },
           {
            "args": [
             [
              "2023"
             ],
             {
              "frame": {
               "duration": 0,
               "redraw": false
              },
              "fromcurrent": true,
              "mode": "immediate",
              "transition": {
               "duration": 0,
               "easing": "linear"
              }
             }
            ],
            "label": "2023",
            "method": "animate"
           },
           {
            "args": [
             [
              "2024"
             ],
             {
              "frame": {
               "duration": 0,
               "redraw": false
              },
              "fromcurrent": true,
              "mode": "immediate",
              "transition": {
               "duration": 0,
               "easing": "linear"
              }
             }
            ],
            "label": "2024",
            "method": "animate"
           }
          ],
          "x": 0.1,
          "xanchor": "left",
          "y": 0,
          "yanchor": "top"
         }
        ],
        "template": {
         "data": {
          "bar": [
           {
            "error_x": {
             "color": "#2a3f5f"
            },
            "error_y": {
             "color": "#2a3f5f"
            },
            "marker": {
             "line": {
              "color": "white",
              "width": 0.5
             },
             "pattern": {
              "fillmode": "overlay",
              "size": 10,
              "solidity": 0.2
             }
            },
            "type": "bar"
           }
          ],
          "barpolar": [
           {
            "marker": {
             "line": {
              "color": "white",
              "width": 0.5
             },
             "pattern": {
              "fillmode": "overlay",
              "size": 10,
              "solidity": 0.2
             }
            },
            "type": "barpolar"
           }
          ],
          "carpet": [
           {
            "aaxis": {
             "endlinecolor": "#2a3f5f",
             "gridcolor": "#C8D4E3",
             "linecolor": "#C8D4E3",
             "minorgridcolor": "#C8D4E3",
             "startlinecolor": "#2a3f5f"
            },
            "baxis": {
             "endlinecolor": "#2a3f5f",
             "gridcolor": "#C8D4E3",
             "linecolor": "#C8D4E3",
             "minorgridcolor": "#C8D4E3",
             "startlinecolor": "#2a3f5f"
            },
            "type": "carpet"
           }
          ],
          "choropleth": [
           {
            "colorbar": {
             "outlinewidth": 0,
             "ticks": ""
            },
            "type": "choropleth"
           }
          ],
          "contour": [
           {
            "colorbar": {
             "outlinewidth": 0,
             "ticks": ""
            },
            "colorscale": [
             [
              0,
              "#0d0887"
             ],
             [
              0.1111111111111111,
              "#46039f"
             ],
             [
              0.2222222222222222,
              "#7201a8"
             ],
             [
              0.3333333333333333,
              "#9c179e"
             ],
             [
              0.4444444444444444,
              "#bd3786"
             ],
             [
              0.5555555555555556,
              "#d8576b"
             ],
             [
              0.6666666666666666,
              "#ed7953"
             ],
             [
              0.7777777777777778,
              "#fb9f3a"
             ],
             [
              0.8888888888888888,
              "#fdca26"
             ],
             [
              1,
              "#f0f921"
             ]
            ],
            "type": "contour"
           }
          ],
          "contourcarpet": [
           {
            "colorbar": {
             "outlinewidth": 0,
             "ticks": ""
            },
            "type": "contourcarpet"
           }
          ],
          "heatmap": [
           {
            "colorbar": {
             "outlinewidth": 0,
             "ticks": ""
            },
            "colorscale": [
             [
              0,
              "#0d0887"
             ],
             [
              0.1111111111111111,
              "#46039f"
             ],
             [
              0.2222222222222222,
              "#7201a8"
             ],
             [
              0.3333333333333333,
              "#9c179e"
             ],
             [
              0.4444444444444444,
              "#bd3786"
             ],
             [
              0.5555555555555556,
              "#d8576b"
             ],
             [
              0.6666666666666666,
              "#ed7953"
             ],
             [
              0.7777777777777778,
              "#fb9f3a"
             ],
             [
              0.8888888888888888,
              "#fdca26"
             ],
             [
              1,
              "#f0f921"
             ]
            ],
            "type": "heatmap"
           }
          ],
          "histogram": [
           {
            "marker": {
             "pattern": {
              "fillmode": "overlay",
              "size": 10,
              "solidity": 0.2
             }
            },
            "type": "histogram"
           }
          ],
          "histogram2d": [
           {
            "colorbar": {
             "outlinewidth": 0,
             "ticks": ""
            },
            "colorscale": [
             [
              0,
              "#0d0887"
             ],
             [
              0.1111111111111111,
              "#46039f"
             ],
             [
              0.2222222222222222,
              "#7201a8"
             ],
             [
              0.3333333333333333,
              "#9c179e"
             ],
             [
              0.4444444444444444,
              "#bd3786"
             ],
             [
              0.5555555555555556,
              "#d8576b"
             ],
             [
              0.6666666666666666,
              "#ed7953"
             ],
             [
              0.7777777777777778,
              "#fb9f3a"
             ],
             [
              0.8888888888888888,
              "#fdca26"
             ],
             [
              1,
              "#f0f921"
             ]
            ],
            "type": "histogram2d"
           }
          ],
          "histogram2dcontour": [
           {
            "colorbar": {
             "outlinewidth": 0,
             "ticks": ""
            },
            "colorscale": [
             [
              0,
              "#0d0887"
             ],
             [
              0.1111111111111111,
              "#46039f"
             ],
             [
              0.2222222222222222,
              "#7201a8"
             ],
             [
              0.3333333333333333,
              "#9c179e"
             ],
             [
              0.4444444444444444,
              "#bd3786"
             ],
             [
              0.5555555555555556,
              "#d8576b"
             ],
             [
              0.6666666666666666,
              "#ed7953"
             ],
             [
              0.7777777777777778,
              "#fb9f3a"
             ],
             [
              0.8888888888888888,
              "#fdca26"
             ],
             [
              1,
              "#f0f921"
             ]
            ],
            "type": "histogram2dcontour"
           }
          ],
          "mesh3d": [
           {
            "colorbar": {
             "outlinewidth": 0,
             "ticks": ""
            },
            "type": "mesh3d"
           }
          ],
          "parcoords": [
           {
            "line": {
             "colorbar": {
              "outlinewidth": 0,
              "ticks": ""
             }
            },
            "type": "parcoords"
           }
          ],
          "pie": [
           {
            "automargin": true,
            "type": "pie"
           }
          ],
          "scatter": [
           {
            "fillpattern": {
             "fillmode": "overlay",
             "size": 10,
             "solidity": 0.2
            },
            "type": "scatter"
           }
          ],
          "scatter3d": [
           {
            "line": {
             "colorbar": {
              "outlinewidth": 0,
              "ticks": ""
             }
            },
            "marker": {
             "colorbar": {
              "outlinewidth": 0,
              "ticks": ""
             }
            },
            "type": "scatter3d"
           }
          ],
          "scattercarpet": [
           {
            "marker": {
             "colorbar": {
              "outlinewidth": 0,
              "ticks": ""
             }
            },
            "type": "scattercarpet"
           }
          ],
          "scattergeo": [
           {
            "marker": {
             "colorbar": {
              "outlinewidth": 0,
              "ticks": ""
             }
            },
            "type": "scattergeo"
           }
          ],
          "scattergl": [
           {
            "marker": {
             "colorbar": {
              "outlinewidth": 0,
              "ticks": ""
             }
            },
            "type": "scattergl"
           }
          ],
          "scattermap": [
           {
            "marker": {
             "colorbar": {
              "outlinewidth": 0,
              "ticks": ""
             }
            },
            "type": "scattermap"
           }
          ],
          "scattermapbox": [
           {
            "marker": {
             "colorbar": {
              "outlinewidth": 0,
              "ticks": ""
             }
            },
            "type": "scattermapbox"
           }
          ],
          "scatterpolar": [
           {
            "marker": {
             "colorbar": {
              "outlinewidth": 0,
              "ticks": ""
             }
            },
            "type": "scatterpolar"
           }
          ],
          "scatterpolargl": [
           {
            "marker": {
             "colorbar": {
              "outlinewidth": 0,
              "ticks": ""
             }
            },
            "type": "scatterpolargl"
           }
          ],
          "scatterternary": [
           {
            "marker": {
             "colorbar": {
              "outlinewidth": 0,
              "ticks": ""
             }
            },
            "type": "scatterternary"
           }
          ],
          "surface": [
           {
            "colorbar": {
             "outlinewidth": 0,
             "ticks": ""
            },
            "colorscale": [
             [
              0,
              "#0d0887"
             ],
             [
              0.1111111111111111,
              "#46039f"
             ],
             [
              0.2222222222222222,
              "#7201a8"
             ],
             [
              0.3333333333333333,
              "#9c179e"
             ],
             [
              0.4444444444444444,
              "#bd3786"
             ],
             [
              0.5555555555555556,
              "#d8576b"
             ],
             [
              0.6666666666666666,
              "#ed7953"
             ],
             [
              0.7777777777777778,
              "#fb9f3a"
             ],
             [
              0.8888888888888888,
              "#fdca26"
             ],
             [
              1,
              "#f0f921"
             ]
            ],
            "type": "surface"
           }
          ],
          "table": [
           {
            "cells": {
             "fill": {
              "color": "#EBF0F8"
             },
             "line": {
              "color": "white"
             }
            },
            "header": {
             "fill": {
              "color": "#C8D4E3"
             },
             "line": {
              "color": "white"
             }
            },
            "type": "table"
           }
          ]
         },
         "layout": {
          "annotationdefaults": {
           "arrowcolor": "#2a3f5f",
           "arrowhead": 0,
           "arrowwidth": 1
          },
          "autotypenumbers": "strict",
          "coloraxis": {
           "colorbar": {
            "outlinewidth": 0,
            "ticks": ""
           }
          },
          "colorscale": {
           "diverging": [
            [
             0,
             "#8e0152"
            ],
            [
             0.1,
             "#c51b7d"
            ],
            [
             0.2,
             "#de77ae"
            ],
            [
             0.3,
             "#f1b6da"
            ],
            [
             0.4,
             "#fde0ef"
            ],
            [
             0.5,
             "#f7f7f7"
            ],
            [
             0.6,
             "#e6f5d0"
            ],
            [
             0.7,
             "#b8e186"
            ],
            [
             0.8,
             "#7fbc41"
            ],
            [
             0.9,
             "#4d9221"
            ],
            [
             1,
             "#276419"
            ]
           ],
           "sequential": [
            [
             0,
             "#0d0887"
            ],
            [
             0.1111111111111111,
             "#46039f"
            ],
            [
             0.2222222222222222,
             "#7201a8"
            ],
            [
             0.3333333333333333,
             "#9c179e"
            ],
            [
             0.4444444444444444,
             "#bd3786"
            ],
            [
             0.5555555555555556,
             "#d8576b"
            ],
            [
             0.6666666666666666,
             "#ed7953"
            ],
            [
             0.7777777777777778,
             "#fb9f3a"
            ],
            [
             0.8888888888888888,
             "#fdca26"
            ],
            [
             1,
             "#f0f921"
            ]
           ],
           "sequentialminus": [
            [
             0,
             "#0d0887"
            ],
            [
             0.1111111111111111,
             "#46039f"
            ],
            [
             0.2222222222222222,
             "#7201a8"
            ],
            [
             0.3333333333333333,
             "#9c179e"
            ],
            [
             0.4444444444444444,
             "#bd3786"
            ],
            [
             0.5555555555555556,
             "#d8576b"
            ],
            [
             0.6666666666666666,
             "#ed7953"
            ],
            [
             0.7777777777777778,
             "#fb9f3a"
            ],
            [
             0.8888888888888888,
             "#fdca26"
            ],
            [
             1,
             "#f0f921"
            ]
           ]
          },
          "colorway": [
           "#636efa",
           "#EF553B",
           "#00cc96",
           "#ab63fa",
           "#FFA15A",
           "#19d3f3",
           "#FF6692",
           "#B6E880",
           "#FF97FF",
           "#FECB52"
          ],
          "font": {
           "color": "#2a3f5f"
          },
          "geo": {
           "bgcolor": "white",
           "lakecolor": "white",
           "landcolor": "white",
           "showlakes": true,
           "showland": true,
           "subunitcolor": "#C8D4E3"
          },
          "hoverlabel": {
           "align": "left"
          },
          "hovermode": "closest",
          "mapbox": {
           "style": "light"
          },
          "paper_bgcolor": "white",
          "plot_bgcolor": "white",
          "polar": {
           "angularaxis": {
            "gridcolor": "#EBF0F8",
            "linecolor": "#EBF0F8",
            "ticks": ""
           },
           "bgcolor": "white",
           "radialaxis": {
            "gridcolor": "#EBF0F8",
            "linecolor": "#EBF0F8",
            "ticks": ""
           }
          },
          "scene": {
           "xaxis": {
            "backgroundcolor": "white",
            "gridcolor": "#DFE8F3",
            "gridwidth": 2,
            "linecolor": "#EBF0F8",
            "showbackground": true,
            "ticks": "",
            "zerolinecolor": "#EBF0F8"
           },
           "yaxis": {
            "backgroundcolor": "white",
            "gridcolor": "#DFE8F3",
            "gridwidth": 2,
            "linecolor": "#EBF0F8",
            "showbackground": true,
            "ticks": "",
            "zerolinecolor": "#EBF0F8"
           },
           "zaxis": {
            "backgroundcolor": "white",
            "gridcolor": "#DFE8F3",
            "gridwidth": 2,
            "linecolor": "#EBF0F8",
            "showbackground": true,
            "ticks": "",
            "zerolinecolor": "#EBF0F8"
           }
          },
          "shapedefaults": {
           "line": {
            "color": "#2a3f5f"
           }
          },
          "ternary": {
           "aaxis": {
            "gridcolor": "#DFE8F3",
            "linecolor": "#A2B1C6",
            "ticks": ""
           },
           "baxis": {
            "gridcolor": "#DFE8F3",
            "linecolor": "#A2B1C6",
            "ticks": ""
           },
           "bgcolor": "white",
           "caxis": {
            "gridcolor": "#DFE8F3",
            "linecolor": "#A2B1C6",
            "ticks": ""
           }
          },
          "title": {
           "x": 0.05
          },
          "xaxis": {
           "automargin": true,
           "gridcolor": "#EBF0F8",
           "linecolor": "#EBF0F8",
           "ticks": "",
           "title": {
            "standoff": 15
           },
           "zerolinecolor": "#EBF0F8",
           "zerolinewidth": 2
          },
          "yaxis": {
           "automargin": true,
           "gridcolor": "#EBF0F8",
           "linecolor": "#EBF0F8",
           "ticks": "",
           "title": {
            "standoff": 15
           },
           "zerolinecolor": "#EBF0F8",
           "zerolinewidth": 2
          }
         }
        },
        "title": {
         "text": "Dynamics of AI usage by country (2020–2024)"
        },
        "updatemenus": [
         {
          "buttons": [
           {
            "args": [
             null,
             {
              "frame": {
               "duration": 500,
               "redraw": false
              },
              "fromcurrent": true,
              "mode": "immediate",
              "transition": {
               "duration": 500,
               "easing": "linear"
              }
             }
            ],
            "label": "&#9654;",
            "method": "animate"
           },
           {
            "args": [
             [
              null
             ],
             {
              "frame": {
               "duration": 0,
               "redraw": false
              },
              "fromcurrent": true,
              "mode": "immediate",
              "transition": {
               "duration": 0,
               "easing": "linear"
              }
             }
            ],
            "label": "&#9724;",
            "method": "animate"
           }
          ],
          "direction": "left",
          "pad": {
           "r": 10,
           "t": 70
          },
          "showactive": false,
          "type": "buttons",
          "x": 0.1,
          "xanchor": "right",
          "y": 0,
          "yanchor": "top"
         }
        ],
        "xaxis": {
         "anchor": "y",
         "domain": [
          0,
          1
         ],
         "title": {
          "text": "Investments ($M)"
         }
        },
        "yaxis": {
         "anchor": "x",
         "domain": [
          0,
          1
         ],
         "title": {
          "text": "AI users (million)"
         }
        }
       }
      }
     },
     "metadata": {},
     "output_type": "display_data"
    },
    {
     "data": {
      "application/vnd.plotly.v1+json": {
       "config": {
        "plotlyServerURL": "https://plot.ly"
       },
       "data": [
        {
         "cells": {
          "align": "center",
          "fill": {
           "color": "rgb(250,250,255)"
          },
          "font": {
           "size": 11
          },
          "height": 28,
          "values": [
           [
            "India",
            "USA",
            "France",
            "China",
            "Japan",
            "Canada",
            "Brazil",
            "Australia",
            "United Kingdom",
            "Germany"
           ],
           [
            9001.14,
            7781.85,
            7647.87,
            6587.04,
            5979.65,
            5592.75,
            5432.44,
            3450.55,
            2986.38,
            2752.41
           ],
           [
            2431,
            2095,
            2961,
            2394,
            2889,
            1661,
            2452,
            1402,
            1552,
            1216
           ],
           [
            14.68,
            7.92,
            10.85,
            14.72,
            11.23,
            7.11,
            13.88,
            9.52,
            9.74,
            6.34
           ]
          ]
         },
         "header": {
          "align": "center",
          "fill": {
           "color": "#5e3c99"
          },
          "font": {
           "color": "white",
           "size": 12
          },
          "height": 32,
          "values": [
           "<b>Country</b>",
           "<b>Investment ($M)</b>",
           "<b>AI Projects</b>",
           "<b>Avg AI Users (mln)</b>"
          ]
         },
         "type": "table"
        }
       ],
       "layout": {
        "height": 480,
        "margin": {
         "b": 20,
         "l": 10,
         "r": 10,
         "t": 60
        },
        "paper_bgcolor": "white",
        "template": {
         "data": {
          "bar": [
           {
            "error_x": {
             "color": "#2a3f5f"
            },
            "error_y": {
             "color": "#2a3f5f"
            },
            "marker": {
             "line": {
              "color": "#E5ECF6",
              "width": 0.5
             },
             "pattern": {
              "fillmode": "overlay",
              "size": 10,
              "solidity": 0.2
             }
            },
            "type": "bar"
           }
          ],
          "barpolar": [
           {
            "marker": {
             "line": {
              "color": "#E5ECF6",
              "width": 0.5
             },
             "pattern": {
              "fillmode": "overlay",
              "size": 10,
              "solidity": 0.2
             }
            },
            "type": "barpolar"
           }
          ],
          "carpet": [
           {
            "aaxis": {
             "endlinecolor": "#2a3f5f",
             "gridcolor": "white",
             "linecolor": "white",
             "minorgridcolor": "white",
             "startlinecolor": "#2a3f5f"
            },
            "baxis": {
             "endlinecolor": "#2a3f5f",
             "gridcolor": "white",
             "linecolor": "white",
             "minorgridcolor": "white",
             "startlinecolor": "#2a3f5f"
            },
            "type": "carpet"
           }
          ],
          "choropleth": [
           {
            "colorbar": {
             "outlinewidth": 0,
             "ticks": ""
            },
            "type": "choropleth"
           }
          ],
          "contour": [
           {
            "colorbar": {
             "outlinewidth": 0,
             "ticks": ""
            },
            "colorscale": [
             [
              0,
              "#0d0887"
             ],
             [
              0.1111111111111111,
              "#46039f"
             ],
             [
              0.2222222222222222,
              "#7201a8"
             ],
             [
              0.3333333333333333,
              "#9c179e"
             ],
             [
              0.4444444444444444,
              "#bd3786"
             ],
             [
              0.5555555555555556,
              "#d8576b"
             ],
             [
              0.6666666666666666,
              "#ed7953"
             ],
             [
              0.7777777777777778,
              "#fb9f3a"
             ],
             [
              0.8888888888888888,
              "#fdca26"
             ],
             [
              1,
              "#f0f921"
             ]
            ],
            "type": "contour"
           }
          ],
          "contourcarpet": [
           {
            "colorbar": {
             "outlinewidth": 0,
             "ticks": ""
            },
            "type": "contourcarpet"
           }
          ],
          "heatmap": [
           {
            "colorbar": {
             "outlinewidth": 0,
             "ticks": ""
            },
            "colorscale": [
             [
              0,
              "#0d0887"
             ],
             [
              0.1111111111111111,
              "#46039f"
             ],
             [
              0.2222222222222222,
              "#7201a8"
             ],
             [
              0.3333333333333333,
              "#9c179e"
             ],
             [
              0.4444444444444444,
              "#bd3786"
             ],
             [
              0.5555555555555556,
              "#d8576b"
             ],
             [
              0.6666666666666666,
              "#ed7953"
             ],
             [
              0.7777777777777778,
              "#fb9f3a"
             ],
             [
              0.8888888888888888,
              "#fdca26"
             ],
             [
              1,
              "#f0f921"
             ]
            ],
            "type": "heatmap"
           }
          ],
          "histogram": [
           {
            "marker": {
             "pattern": {
              "fillmode": "overlay",
              "size": 10,
              "solidity": 0.2
             }
            },
            "type": "histogram"
           }
          ],
          "histogram2d": [
           {
            "colorbar": {
             "outlinewidth": 0,
             "ticks": ""
            },
            "colorscale": [
             [
              0,
              "#0d0887"
             ],
             [
              0.1111111111111111,
              "#46039f"
             ],
             [
              0.2222222222222222,
              "#7201a8"
             ],
             [
              0.3333333333333333,
              "#9c179e"
             ],
             [
              0.4444444444444444,
              "#bd3786"
             ],
             [
              0.5555555555555556,
              "#d8576b"
             ],
             [
              0.6666666666666666,
              "#ed7953"
             ],
             [
              0.7777777777777778,
              "#fb9f3a"
             ],
             [
              0.8888888888888888,
              "#fdca26"
             ],
             [
              1,
              "#f0f921"
             ]
            ],
            "type": "histogram2d"
           }
          ],
          "histogram2dcontour": [
           {
            "colorbar": {
             "outlinewidth": 0,
             "ticks": ""
            },
            "colorscale": [
             [
              0,
              "#0d0887"
             ],
             [
              0.1111111111111111,
              "#46039f"
             ],
             [
              0.2222222222222222,
              "#7201a8"
             ],
             [
              0.3333333333333333,
              "#9c179e"
             ],
             [
              0.4444444444444444,
              "#bd3786"
             ],
             [
              0.5555555555555556,
              "#d8576b"
             ],
             [
              0.6666666666666666,
              "#ed7953"
             ],
             [
              0.7777777777777778,
              "#fb9f3a"
             ],
             [
              0.8888888888888888,
              "#fdca26"
             ],
             [
              1,
              "#f0f921"
             ]
            ],
            "type": "histogram2dcontour"
           }
          ],
          "mesh3d": [
           {
            "colorbar": {
             "outlinewidth": 0,
             "ticks": ""
            },
            "type": "mesh3d"
           }
          ],
          "parcoords": [
           {
            "line": {
             "colorbar": {
              "outlinewidth": 0,
              "ticks": ""
             }
            },
            "type": "parcoords"
           }
          ],
          "pie": [
           {
            "automargin": true,
            "type": "pie"
           }
          ],
          "scatter": [
           {
            "fillpattern": {
             "fillmode": "overlay",
             "size": 10,
             "solidity": 0.2
            },
            "type": "scatter"
           }
          ],
          "scatter3d": [
           {
            "line": {
             "colorbar": {
              "outlinewidth": 0,
              "ticks": ""
             }
            },
            "marker": {
             "colorbar": {
              "outlinewidth": 0,
              "ticks": ""
             }
            },
            "type": "scatter3d"
           }
          ],
          "scattercarpet": [
           {
            "marker": {
             "colorbar": {
              "outlinewidth": 0,
              "ticks": ""
             }
            },
            "type": "scattercarpet"
           }
          ],
          "scattergeo": [
           {
            "marker": {
             "colorbar": {
              "outlinewidth": 0,
              "ticks": ""
             }
            },
            "type": "scattergeo"
           }
          ],
          "scattergl": [
           {
            "marker": {
             "colorbar": {
              "outlinewidth": 0,
              "ticks": ""
             }
            },
            "type": "scattergl"
           }
          ],
          "scattermap": [
           {
            "marker": {
             "colorbar": {
              "outlinewidth": 0,
              "ticks": ""
             }
            },
            "type": "scattermap"
           }
          ],
          "scattermapbox": [
           {
            "marker": {
             "colorbar": {
              "outlinewidth": 0,
              "ticks": ""
             }
            },
            "type": "scattermapbox"
           }
          ],
          "scatterpolar": [
           {
            "marker": {
             "colorbar": {
              "outlinewidth": 0,
              "ticks": ""
             }
            },
            "type": "scatterpolar"
           }
          ],
          "scatterpolargl": [
           {
            "marker": {
             "colorbar": {
              "outlinewidth": 0,
              "ticks": ""
             }
            },
            "type": "scatterpolargl"
           }
          ],
          "scatterternary": [
           {
            "marker": {
             "colorbar": {
              "outlinewidth": 0,
              "ticks": ""
             }
            },
            "type": "scatterternary"
           }
          ],
          "surface": [
           {
            "colorbar": {
             "outlinewidth": 0,
             "ticks": ""
            },
            "colorscale": [
             [
              0,
              "#0d0887"
             ],
             [
              0.1111111111111111,
              "#46039f"
             ],
             [
              0.2222222222222222,
              "#7201a8"
             ],
             [
              0.3333333333333333,
              "#9c179e"
             ],
             [
              0.4444444444444444,
              "#bd3786"
             ],
             [
              0.5555555555555556,
              "#d8576b"
             ],
             [
              0.6666666666666666,
              "#ed7953"
             ],
             [
              0.7777777777777778,
              "#fb9f3a"
             ],
             [
              0.8888888888888888,
              "#fdca26"
             ],
             [
              1,
              "#f0f921"
             ]
            ],
            "type": "surface"
           }
          ],
          "table": [
           {
            "cells": {
             "fill": {
              "color": "#EBF0F8"
             },
             "line": {
              "color": "white"
             }
            },
            "header": {
             "fill": {
              "color": "#C8D4E3"
             },
             "line": {
              "color": "white"
             }
            },
            "type": "table"
           }
          ]
         },
         "layout": {
          "annotationdefaults": {
           "arrowcolor": "#2a3f5f",
           "arrowhead": 0,
           "arrowwidth": 1
          },
          "autotypenumbers": "strict",
          "coloraxis": {
           "colorbar": {
            "outlinewidth": 0,
            "ticks": ""
           }
          },
          "colorscale": {
           "diverging": [
            [
             0,
             "#8e0152"
            ],
            [
             0.1,
             "#c51b7d"
            ],
            [
             0.2,
             "#de77ae"
            ],
            [
             0.3,
             "#f1b6da"
            ],
            [
             0.4,
             "#fde0ef"
            ],
            [
             0.5,
             "#f7f7f7"
            ],
            [
             0.6,
             "#e6f5d0"
            ],
            [
             0.7,
             "#b8e186"
            ],
            [
             0.8,
             "#7fbc41"
            ],
            [
             0.9,
             "#4d9221"
            ],
            [
             1,
             "#276419"
            ]
           ],
           "sequential": [
            [
             0,
             "#0d0887"
            ],
            [
             0.1111111111111111,
             "#46039f"
            ],
            [
             0.2222222222222222,
             "#7201a8"
            ],
            [
             0.3333333333333333,
             "#9c179e"
            ],
            [
             0.4444444444444444,
             "#bd3786"
            ],
            [
             0.5555555555555556,
             "#d8576b"
            ],
            [
             0.6666666666666666,
             "#ed7953"
            ],
            [
             0.7777777777777778,
             "#fb9f3a"
            ],
            [
             0.8888888888888888,
             "#fdca26"
            ],
            [
             1,
             "#f0f921"
            ]
           ],
           "sequentialminus": [
            [
             0,
             "#0d0887"
            ],
            [
             0.1111111111111111,
             "#46039f"
            ],
            [
             0.2222222222222222,
             "#7201a8"
            ],
            [
             0.3333333333333333,
             "#9c179e"
            ],
            [
             0.4444444444444444,
             "#bd3786"
            ],
            [
             0.5555555555555556,
             "#d8576b"
            ],
            [
             0.6666666666666666,
             "#ed7953"
            ],
            [
             0.7777777777777778,
             "#fb9f3a"
            ],
            [
             0.8888888888888888,
             "#fdca26"
            ],
            [
             1,
             "#f0f921"
            ]
           ]
          },
          "colorway": [
           "#636efa",
           "#EF553B",
           "#00cc96",
           "#ab63fa",
           "#FFA15A",
           "#19d3f3",
           "#FF6692",
           "#B6E880",
           "#FF97FF",
           "#FECB52"
          ],
          "font": {
           "color": "#2a3f5f"
          },
          "geo": {
           "bgcolor": "white",
           "lakecolor": "white",
           "landcolor": "#E5ECF6",
           "showlakes": true,
           "showland": true,
           "subunitcolor": "white"
          },
          "hoverlabel": {
           "align": "left"
          },
          "hovermode": "closest",
          "mapbox": {
           "style": "light"
          },
          "paper_bgcolor": "white",
          "plot_bgcolor": "#E5ECF6",
          "polar": {
           "angularaxis": {
            "gridcolor": "white",
            "linecolor": "white",
            "ticks": ""
           },
           "bgcolor": "#E5ECF6",
           "radialaxis": {
            "gridcolor": "white",
            "linecolor": "white",
            "ticks": ""
           }
          },
          "scene": {
           "xaxis": {
            "backgroundcolor": "#E5ECF6",
            "gridcolor": "white",
            "gridwidth": 2,
            "linecolor": "white",
            "showbackground": true,
            "ticks": "",
            "zerolinecolor": "white"
           },
           "yaxis": {
            "backgroundcolor": "#E5ECF6",
            "gridcolor": "white",
            "gridwidth": 2,
            "linecolor": "white",
            "showbackground": true,
            "ticks": "",
            "zerolinecolor": "white"
           },
           "zaxis": {
            "backgroundcolor": "#E5ECF6",
            "gridcolor": "white",
            "gridwidth": 2,
            "linecolor": "white",
            "showbackground": true,
            "ticks": "",
            "zerolinecolor": "white"
           }
          },
          "shapedefaults": {
           "line": {
            "color": "#2a3f5f"
           }
          },
          "ternary": {
           "aaxis": {
            "gridcolor": "white",
            "linecolor": "white",
            "ticks": ""
           },
           "baxis": {
            "gridcolor": "white",
            "linecolor": "white",
            "ticks": ""
           },
           "bgcolor": "#E5ECF6",
           "caxis": {
            "gridcolor": "white",
            "linecolor": "white",
            "ticks": ""
           }
          },
          "title": {
           "x": 0.05
          },
          "xaxis": {
           "automargin": true,
           "gridcolor": "white",
           "linecolor": "white",
           "ticks": "",
           "title": {
            "standoff": 15
           },
           "zerolinecolor": "white",
           "zerolinewidth": 2
          },
          "yaxis": {
           "automargin": true,
           "gridcolor": "white",
           "linecolor": "white",
           "ticks": "",
           "title": {
            "standoff": 15
           },
           "zerolinecolor": "white",
           "zerolinewidth": 2
          }
         }
        },
        "title": {
         "text": "Top Countries by AI Investment (2014–2024)",
         "x": 0.5
        }
       }
      }
     },
     "metadata": {},
     "output_type": "display_data"
    }
   ],
   "source": [
    "import pandas as pd\n",
    "import plotly.express as px\n",
    "import plotly.graph_objects as go\n",
    "\n",
    "# Завантаження даних\n",
    "df = pd.read_csv(\"ai_adoption.csv\")\n",
    "\n",
    "# 1. Мапа інвестицій по країнах (останній рік)\n",
    "latest_year = df[\"Year\"].max()\n",
    "latest_df = df[df[\"Year\"] == latest_year]\n",
    "\n",
    "fig_map = px.choropleth(\n",
    "    latest_df,\n",
    "    locations=\"Country\",\n",
    "    locationmode=\"country names\",\n",
    "    color=\"Investment_Mln\",\n",
    "    hover_name=\"Country\",\n",
    "    title=f\"AI investments by country in {latest_year}\",\n",
    "    color_continuous_scale=\"PuBu\"\n",
    ")\n",
    "fig_map.update_geos(showcoastlines=True, projection_type=\"natural earth\")\n",
    "fig_map.update_layout(margin=dict(l=20, r=20, t=60, b=20), title_x=0.5, height=600)\n",
    "fig_map.show()\n",
    "\n",
    "\n",
    "# 2. Комбінований графік: AI Projects + Investment\n",
    "agg = df.groupby(\"Year\").agg({\"AI_Projects\": \"sum\", \"Investment_Mln\": \"sum\"}).reset_index()\n",
    "# Комбінований графік\n",
    "fig_combo = go.Figure()\n",
    "# Стовпчики: AI Projects\n",
    "fig_combo.add_trace(go.Bar(\n",
    "    x=agg[\"Year\"],\n",
    "    y=agg[\"AI_Projects\"],\n",
    "    name=\"AI Projects\",\n",
    "    yaxis=\"y1\",\n",
    "    text=agg[\"AI_Projects\"],\n",
    "    textposition=\"outside\",\n",
    "    marker=dict(color=agg[\"AI_Projects\"], colorscale=\"Blues\", showscale=False),\n",
    "    hovertemplate=\"Year: %{x}<br>Projects: %{y}<extra></extra>\"\n",
    "))\n",
    "# Лінія: Investment ($M)\n",
    "fig_combo.add_trace(go.Scatter(\n",
    "    x=agg[\"Year\"],\n",
    "    y=agg[\"Investment_Mln\"],\n",
    "    name=\"Investment ($M)\",\n",
    "    yaxis=\"y2\",\n",
    "    mode=\"lines+markers+text\",\n",
    "    line=dict(color=\"#5e3c99\", width=3), \n",
    "    textposition=\"top center\",\n",
    "    hovertemplate=\"Year: %{x}<br>Investments: %{y}<extra></extra>\"\n",
    "))\n",
    "\n",
    "fig_combo.update_layout(\n",
    "    title=\"AI Projects and Investments by year\",\n",
    "    xaxis_title=\"Year\",\n",
    "    yaxis=dict(title=\"Number of projects\", side=\"left\", showgrid=True),\n",
    "    yaxis2=dict(title=\"Investments ($M)\", overlaying=\"y\", side=\"right\", showgrid=False),\n",
    "    legend=dict(x=0.01, y=0.99),\n",
    "    plot_bgcolor=\"white\",   \n",
    "    paper_bgcolor=\"white\", \n",
    "    margin=dict(l=40, r=40, t=60, b=40)\n",
    ")\n",
    "\n",
    "fig_combo.show()\n",
    "\n",
    "\n",
    "# 3. Анімована динаміка (bubble chart)\n",
    "color_map = { \"Australia\": \"#6A5ACD\", \"Brazil\": \"#7B68EE\", \"Canada\": \"#483D8B\", \"China\": \"#9370DB\", \"France\": \"#8A2BE2\", \"Germany\": \"#4169E1\", \n",
    "              \"India\": \"#6495ED\", \"Japan\": \"#1E90FF\", \"United Kingdom\": \"#0050EF\", \"USA\": \"#4B0082\" }\n",
    "\n",
    "fig_bubble = px.scatter(\n",
    "    df,\n",
    "    x=\"Investment_Mln\",\n",
    "    y=\"AI_Users_Mln\",\n",
    "    size=\"AI_Projects\",\n",
    "    color=\"Country\",\n",
    "    animation_frame=\"Year\",\n",
    "    animation_group=\"Country\",\n",
    "    hover_name=\"Country\",\n",
    "    size_max=60,\n",
    "    title=\"Dynamics of AI usage by country (2020–2024)\",\n",
    "    color_discrete_map=color_map\n",
    ")\n",
    "fig_bubble.update_traces(opacity=0.85, marker=dict(line=dict(width=0.6, color='rgba(0,0,0,0.2)')))\n",
    "fig_bubble.update_layout(\n",
    "    xaxis_title=\"Investments ($M)\",\n",
    "    yaxis_title=\"AI users (million)\",\n",
    "    template=\"plotly_white\",\n",
    "    paper_bgcolor=\"white\",\n",
    "    plot_bgcolor=\"white\",\n",
    "    margin=dict(l=40, r=40, t=60, b=60),\n",
    "    font=dict(family=\"Arial\", size=12),\n",
    "    legend_title=\"Country\"\n",
    ")\n",
    "fig_bubble.show()\n",
    "\n",
    "\n",
    "# 4. Таблиця топ країн\n",
    "table_df = df.groupby(\"Country\").agg({ \"Investment_Mln\": \"sum\", \"AI_Projects\": \"sum\", \"AI_Users_Mln\": \"mean\" }).reset_index().round(2).sort_values(by=\"Investment_Mln\", ascending=False)\n",
    "\n",
    "fig_table = go.Figure(data=[\n",
    "    go.Table(\n",
    "        header=dict(\n",
    "            values=[\"<b>Country</b>\", \"<b>Investment ($M)</b>\", \"<b>AI Projects</b>\", \"<b>Avg AI Users (mln)</b>\"],\n",
    "            fill_color=\"#5e3c99\",\n",
    "            font=dict(color=\"white\", size=12),\n",
    "            align=\"center\",\n",
    "            height=32\n",
    "        ),\n",
    "        cells=dict(\n",
    "            values=[table_df[\"Country\"], table_df[\"Investment_Mln\"], table_df[\"AI_Projects\"], table_df[\"AI_Users_Mln\"]],\n",
    "            fill_color=\"rgb(250,250,255)\",\n",
    "            align=\"center\",\n",
    "            height=28,\n",
    "            font=dict(size=11)\n",
    "        )\n",
    "    )\n",
    "])\n",
    "fig_table.update_layout(\n",
    "    title=\"Top Countries by AI Investment (2014–2024)\",\n",
    "    title_x=0.5,\n",
    "    margin=dict(l=10, r=10, t=60, b=20),\n",
    "    height=480,\n",
    "    paper_bgcolor=\"white\"\n",
    ")\n",
    "fig_table.show()"
   ]
  }
 ],
 "metadata": {
  "kernelspec": {
   "display_name": "Python 3",
   "language": "python",
   "name": "python3"
  },
  "language_info": {
   "codemirror_mode": {
    "name": "ipython",
    "version": 3
   },
   "file_extension": ".py",
   "mimetype": "text/x-python",
   "name": "python",
   "nbconvert_exporter": "python",
   "pygments_lexer": "ipython3",
   "version": "3.13.3"
  }
 },
 "nbformat": 4,
 "nbformat_minor": 5
}
